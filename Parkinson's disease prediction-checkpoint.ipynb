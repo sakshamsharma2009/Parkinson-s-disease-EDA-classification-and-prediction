{
 "cells": [
  {
   "cell_type": "code",
   "execution_count": 4,
   "id": "61e5f595",
   "metadata": {},
   "outputs": [
    {
     "name": "stdout",
     "output_type": "stream",
     "text": [
      "Collecting package metadata (current_repodata.json): ...working... done\n",
      "Solving environment: ...working... done\n",
      "\n",
      "## Package Plan ##\n",
      "\n",
      "  environment location: C:\\Users\\15264\\Anaconda3\n",
      "\n",
      "  added / updated specs:\n",
      "    - xgboost\n",
      "\n",
      "\n",
      "The following packages will be downloaded:\n",
      "\n",
      "    package                    |            build\n",
      "    ---------------------------|-----------------\n",
      "    _py-xgboost-mutex-2.0      |            cpu_0          12 KB\n",
      "    conda-4.11.0               |   py38haa95532_0        14.4 MB\n",
      "    libxgboost-1.5.0           |       hd77b12b_1         1.3 MB\n",
      "    py-xgboost-1.5.0           |   py38haa95532_1         171 KB\n",
      "    xgboost-1.5.0              |   py38haa95532_1          26 KB\n",
      "    ------------------------------------------------------------\n",
      "                                           Total:        16.0 MB\n",
      "\n",
      "The following NEW packages will be INSTALLED:\n",
      "\n",
      "  _py-xgboost-mutex  pkgs/main/win-64::_py-xgboost-mutex-2.0-cpu_0\n",
      "  libxgboost         pkgs/main/win-64::libxgboost-1.5.0-hd77b12b_1\n",
      "  py-xgboost         pkgs/main/win-64::py-xgboost-1.5.0-py38haa95532_1\n",
      "  xgboost            pkgs/main/win-64::xgboost-1.5.0-py38haa95532_1\n",
      "\n",
      "The following packages will be UPDATED:\n",
      "\n",
      "  conda                               4.10.3-py38haa95532_0 --> 4.11.0-py38haa95532_0\n",
      "\n",
      "\n",
      "\n",
      "Downloading and Extracting Packages\n",
      "\n",
      "xgboost-1.5.0        | 26 KB     |            |   0% \n",
      "xgboost-1.5.0        | 26 KB     | ######2    |  62% \n",
      "xgboost-1.5.0        | 26 KB     | ########## | 100% \n",
      "xgboost-1.5.0        | 26 KB     | ########## | 100% \n",
      "\n",
      "libxgboost-1.5.0     | 1.3 MB    |            |   0% \n",
      "libxgboost-1.5.0     | 1.3 MB    | 1          |   1% \n",
      "libxgboost-1.5.0     | 1.3 MB    | 3          |   3% \n",
      "libxgboost-1.5.0     | 1.3 MB    | #2         |  13% \n",
      "libxgboost-1.5.0     | 1.3 MB    | ##2        |  22% \n",
      "libxgboost-1.5.0     | 1.3 MB    | ###1       |  31% \n",
      "libxgboost-1.5.0     | 1.3 MB    | ####7      |  48% \n",
      "libxgboost-1.5.0     | 1.3 MB    | ######5    |  65% \n",
      "libxgboost-1.5.0     | 1.3 MB    | ########4  |  85% \n",
      "libxgboost-1.5.0     | 1.3 MB    | ########## | 100% \n",
      "libxgboost-1.5.0     | 1.3 MB    | ########## | 100% \n",
      "\n",
      "_py-xgboost-mutex-2. | 12 KB     |            |   0% \n",
      "_py-xgboost-mutex-2. | 12 KB     | ########## | 100% \n",
      "_py-xgboost-mutex-2. | 12 KB     | ########## | 100% \n",
      "\n",
      "conda-4.11.0         | 14.4 MB   |            |   0% \n",
      "conda-4.11.0         | 14.4 MB   |            |   0% \n",
      "conda-4.11.0         | 14.4 MB   | 1          |   2% \n",
      "conda-4.11.0         | 14.4 MB   | 6          |   6% \n",
      "conda-4.11.0         | 14.4 MB   | 9          |   9% \n",
      "conda-4.11.0         | 14.4 MB   | #3         |  14% \n",
      "conda-4.11.0         | 14.4 MB   | #6         |  17% \n",
      "conda-4.11.0         | 14.4 MB   | #9         |  19% \n",
      "conda-4.11.0         | 14.4 MB   | ##         |  21% \n",
      "conda-4.11.0         | 14.4 MB   | ##3        |  24% \n",
      "conda-4.11.0         | 14.4 MB   | ##6        |  26% \n",
      "conda-4.11.0         | 14.4 MB   | ##8        |  28% \n"
     ]
    },
    {
     "name": "stderr",
     "output_type": "stream",
     "text": [
      "WARNING conda.gateways.disk.delete:unlink_or_rename_to_trash(143): Could not remove or rename C:\\Users\\15264\\Anaconda3\\pkgs\\m2w64-tcl-8.6.5-3.tar.bz2.  Please remove this file manually (you may need to reboot to free file handles)\n",
      "WARNING conda.gateways.disk.delete:unlink_or_rename_to_trash(143): Could not remove or rename C:\\Users\\15264\\Anaconda3\\pkgs\\r-shiny-1.3.2-r36h6115d3f_0.tar.bz2.  Please remove this file manually (you may need to reboot to free file handles)\n"
     ]
    },
    {
     "name": "stdout",
     "output_type": "stream",
     "text": [
      "conda-4.11.0         | 14.4 MB   | ###2       |  32% \n",
      "conda-4.11.0         | 14.4 MB   | ###5       |  35% \n",
      "conda-4.11.0         | 14.4 MB   | ###8       |  38% \n",
      "conda-4.11.0         | 14.4 MB   | ####1      |  41% \n",
      "conda-4.11.0         | 14.4 MB   | ####4      |  45% \n",
      "conda-4.11.0         | 14.4 MB   | ####7      |  48% \n",
      "conda-4.11.0         | 14.4 MB   | #####      |  51% \n",
      "conda-4.11.0         | 14.4 MB   | #####3     |  54% \n",
      "conda-4.11.0         | 14.4 MB   | #####7     |  57% \n",
      "conda-4.11.0         | 14.4 MB   | ######     |  60% \n",
      "conda-4.11.0         | 14.4 MB   | ######3    |  63% \n",
      "conda-4.11.0         | 14.4 MB   | ######6    |  66% \n",
      "conda-4.11.0         | 14.4 MB   | ######9    |  69% \n",
      "conda-4.11.0         | 14.4 MB   | #######2   |  72% \n",
      "conda-4.11.0         | 14.4 MB   | #######5   |  75% \n",
      "conda-4.11.0         | 14.4 MB   | #######8   |  78% \n",
      "conda-4.11.0         | 14.4 MB   | ########   |  81% \n",
      "conda-4.11.0         | 14.4 MB   | ########3  |  83% \n",
      "conda-4.11.0         | 14.4 MB   | ########5  |  85% \n",
      "conda-4.11.0         | 14.4 MB   | ########7  |  88% \n",
      "conda-4.11.0         | 14.4 MB   | #########  |  90% \n",
      "conda-4.11.0         | 14.4 MB   | #########1 |  92% \n",
      "conda-4.11.0         | 14.4 MB   | #########3 |  94% \n",
      "conda-4.11.0         | 14.4 MB   | #########4 |  95% \n",
      "conda-4.11.0         | 14.4 MB   | #########6 |  96% \n",
      "conda-4.11.0         | 14.4 MB   | #########7 |  98% \n",
      "conda-4.11.0         | 14.4 MB   | #########9 |  99% \n",
      "conda-4.11.0         | 14.4 MB   | ########## | 100% \n",
      "\n",
      "py-xgboost-1.5.0     | 171 KB    |            |   0% \n",
      "py-xgboost-1.5.0     | 171 KB    | 9          |   9% \n",
      "py-xgboost-1.5.0     | 171 KB    | ########## | 100% \n",
      "py-xgboost-1.5.0     | 171 KB    | ########## | 100% \n",
      "Preparing transaction: ...working... done\n",
      "Verifying transaction: ...working... done\n",
      "Executing transaction: ...working... done\n"
     ]
    }
   ],
   "source": [
    "import sys\n",
    "!conda install --yes --prefix {sys.prefix} xgboost"
   ]
  },
  {
   "cell_type": "code",
   "execution_count": 28,
   "id": "74bb1db9",
   "metadata": {},
   "outputs": [],
   "source": [
    "import pandas as pd\n",
    "import numpy as np\n",
    "import matplotlib.pyplot as plt\n",
    "import seaborn as sns\n",
    "from scipy import stats\n",
    "from sklearn.model_selection import train_test_split\n",
    "from sklearn.preprocessing import MinMaxScaler\n",
    "from sklearn.metrics import accuracy_score,confusion_matrix\n",
    "from xgboost import XGBClassifier"
   ]
  },
  {
   "cell_type": "markdown",
   "id": "239a0e62",
   "metadata": {},
   "source": [
    "# Loading the dataset"
   ]
  },
  {
   "cell_type": "code",
   "execution_count": 6,
   "id": "6b00d701",
   "metadata": {},
   "outputs": [
    {
     "data": {
      "text/html": [
       "<div>\n",
       "<style scoped>\n",
       "    .dataframe tbody tr th:only-of-type {\n",
       "        vertical-align: middle;\n",
       "    }\n",
       "\n",
       "    .dataframe tbody tr th {\n",
       "        vertical-align: top;\n",
       "    }\n",
       "\n",
       "    .dataframe thead th {\n",
       "        text-align: right;\n",
       "    }\n",
       "</style>\n",
       "<table border=\"1\" class=\"dataframe\">\n",
       "  <thead>\n",
       "    <tr style=\"text-align: right;\">\n",
       "      <th></th>\n",
       "      <th>name</th>\n",
       "      <th>MDVP:Fo(Hz)</th>\n",
       "      <th>MDVP:Fhi(Hz)</th>\n",
       "      <th>MDVP:Flo(Hz)</th>\n",
       "      <th>MDVP:Jitter(%)</th>\n",
       "      <th>MDVP:Jitter(Abs)</th>\n",
       "      <th>MDVP:RAP</th>\n",
       "      <th>MDVP:PPQ</th>\n",
       "      <th>Jitter:DDP</th>\n",
       "      <th>MDVP:Shimmer</th>\n",
       "      <th>...</th>\n",
       "      <th>Shimmer:DDA</th>\n",
       "      <th>NHR</th>\n",
       "      <th>HNR</th>\n",
       "      <th>status</th>\n",
       "      <th>RPDE</th>\n",
       "      <th>DFA</th>\n",
       "      <th>spread1</th>\n",
       "      <th>spread2</th>\n",
       "      <th>D2</th>\n",
       "      <th>PPE</th>\n",
       "    </tr>\n",
       "  </thead>\n",
       "  <tbody>\n",
       "    <tr>\n",
       "      <th>0</th>\n",
       "      <td>phon_R01_S01_1</td>\n",
       "      <td>119.992</td>\n",
       "      <td>157.302</td>\n",
       "      <td>74.997</td>\n",
       "      <td>0.00784</td>\n",
       "      <td>0.00007</td>\n",
       "      <td>0.00370</td>\n",
       "      <td>0.00554</td>\n",
       "      <td>0.01109</td>\n",
       "      <td>0.04374</td>\n",
       "      <td>...</td>\n",
       "      <td>0.06545</td>\n",
       "      <td>0.02211</td>\n",
       "      <td>21.033</td>\n",
       "      <td>1</td>\n",
       "      <td>0.414783</td>\n",
       "      <td>0.815285</td>\n",
       "      <td>-4.813031</td>\n",
       "      <td>0.266482</td>\n",
       "      <td>2.301442</td>\n",
       "      <td>0.284654</td>\n",
       "    </tr>\n",
       "    <tr>\n",
       "      <th>1</th>\n",
       "      <td>phon_R01_S01_2</td>\n",
       "      <td>122.400</td>\n",
       "      <td>148.650</td>\n",
       "      <td>113.819</td>\n",
       "      <td>0.00968</td>\n",
       "      <td>0.00008</td>\n",
       "      <td>0.00465</td>\n",
       "      <td>0.00696</td>\n",
       "      <td>0.01394</td>\n",
       "      <td>0.06134</td>\n",
       "      <td>...</td>\n",
       "      <td>0.09403</td>\n",
       "      <td>0.01929</td>\n",
       "      <td>19.085</td>\n",
       "      <td>1</td>\n",
       "      <td>0.458359</td>\n",
       "      <td>0.819521</td>\n",
       "      <td>-4.075192</td>\n",
       "      <td>0.335590</td>\n",
       "      <td>2.486855</td>\n",
       "      <td>0.368674</td>\n",
       "    </tr>\n",
       "    <tr>\n",
       "      <th>2</th>\n",
       "      <td>phon_R01_S01_3</td>\n",
       "      <td>116.682</td>\n",
       "      <td>131.111</td>\n",
       "      <td>111.555</td>\n",
       "      <td>0.01050</td>\n",
       "      <td>0.00009</td>\n",
       "      <td>0.00544</td>\n",
       "      <td>0.00781</td>\n",
       "      <td>0.01633</td>\n",
       "      <td>0.05233</td>\n",
       "      <td>...</td>\n",
       "      <td>0.08270</td>\n",
       "      <td>0.01309</td>\n",
       "      <td>20.651</td>\n",
       "      <td>1</td>\n",
       "      <td>0.429895</td>\n",
       "      <td>0.825288</td>\n",
       "      <td>-4.443179</td>\n",
       "      <td>0.311173</td>\n",
       "      <td>2.342259</td>\n",
       "      <td>0.332634</td>\n",
       "    </tr>\n",
       "    <tr>\n",
       "      <th>3</th>\n",
       "      <td>phon_R01_S01_4</td>\n",
       "      <td>116.676</td>\n",
       "      <td>137.871</td>\n",
       "      <td>111.366</td>\n",
       "      <td>0.00997</td>\n",
       "      <td>0.00009</td>\n",
       "      <td>0.00502</td>\n",
       "      <td>0.00698</td>\n",
       "      <td>0.01505</td>\n",
       "      <td>0.05492</td>\n",
       "      <td>...</td>\n",
       "      <td>0.08771</td>\n",
       "      <td>0.01353</td>\n",
       "      <td>20.644</td>\n",
       "      <td>1</td>\n",
       "      <td>0.434969</td>\n",
       "      <td>0.819235</td>\n",
       "      <td>-4.117501</td>\n",
       "      <td>0.334147</td>\n",
       "      <td>2.405554</td>\n",
       "      <td>0.368975</td>\n",
       "    </tr>\n",
       "    <tr>\n",
       "      <th>4</th>\n",
       "      <td>phon_R01_S01_5</td>\n",
       "      <td>116.014</td>\n",
       "      <td>141.781</td>\n",
       "      <td>110.655</td>\n",
       "      <td>0.01284</td>\n",
       "      <td>0.00011</td>\n",
       "      <td>0.00655</td>\n",
       "      <td>0.00908</td>\n",
       "      <td>0.01966</td>\n",
       "      <td>0.06425</td>\n",
       "      <td>...</td>\n",
       "      <td>0.10470</td>\n",
       "      <td>0.01767</td>\n",
       "      <td>19.649</td>\n",
       "      <td>1</td>\n",
       "      <td>0.417356</td>\n",
       "      <td>0.823484</td>\n",
       "      <td>-3.747787</td>\n",
       "      <td>0.234513</td>\n",
       "      <td>2.332180</td>\n",
       "      <td>0.410335</td>\n",
       "    </tr>\n",
       "  </tbody>\n",
       "</table>\n",
       "<p>5 rows × 24 columns</p>\n",
       "</div>"
      ],
      "text/plain": [
       "             name  MDVP:Fo(Hz)  MDVP:Fhi(Hz)  MDVP:Flo(Hz)  MDVP:Jitter(%)  \\\n",
       "0  phon_R01_S01_1      119.992       157.302        74.997         0.00784   \n",
       "1  phon_R01_S01_2      122.400       148.650       113.819         0.00968   \n",
       "2  phon_R01_S01_3      116.682       131.111       111.555         0.01050   \n",
       "3  phon_R01_S01_4      116.676       137.871       111.366         0.00997   \n",
       "4  phon_R01_S01_5      116.014       141.781       110.655         0.01284   \n",
       "\n",
       "   MDVP:Jitter(Abs)  MDVP:RAP  MDVP:PPQ  Jitter:DDP  MDVP:Shimmer  ...  \\\n",
       "0           0.00007   0.00370   0.00554     0.01109       0.04374  ...   \n",
       "1           0.00008   0.00465   0.00696     0.01394       0.06134  ...   \n",
       "2           0.00009   0.00544   0.00781     0.01633       0.05233  ...   \n",
       "3           0.00009   0.00502   0.00698     0.01505       0.05492  ...   \n",
       "4           0.00011   0.00655   0.00908     0.01966       0.06425  ...   \n",
       "\n",
       "   Shimmer:DDA      NHR     HNR  status      RPDE       DFA   spread1  \\\n",
       "0      0.06545  0.02211  21.033       1  0.414783  0.815285 -4.813031   \n",
       "1      0.09403  0.01929  19.085       1  0.458359  0.819521 -4.075192   \n",
       "2      0.08270  0.01309  20.651       1  0.429895  0.825288 -4.443179   \n",
       "3      0.08771  0.01353  20.644       1  0.434969  0.819235 -4.117501   \n",
       "4      0.10470  0.01767  19.649       1  0.417356  0.823484 -3.747787   \n",
       "\n",
       "    spread2        D2       PPE  \n",
       "0  0.266482  2.301442  0.284654  \n",
       "1  0.335590  2.486855  0.368674  \n",
       "2  0.311173  2.342259  0.332634  \n",
       "3  0.334147  2.405554  0.368975  \n",
       "4  0.234513  2.332180  0.410335  \n",
       "\n",
       "[5 rows x 24 columns]"
      ]
     },
     "execution_count": 6,
     "metadata": {},
     "output_type": "execute_result"
    }
   ],
   "source": [
    "data=pd.read_csv(r'D:/Saksham 5th sem/Data Science/parkinsons.csv')\n",
    "data.head()"
   ]
  },
  {
   "cell_type": "code",
   "execution_count": 7,
   "id": "4837b3ca",
   "metadata": {},
   "outputs": [
    {
     "data": {
      "text/plain": [
       "(195, 24)"
      ]
     },
     "execution_count": 7,
     "metadata": {},
     "output_type": "execute_result"
    }
   ],
   "source": [
    "data.shape"
   ]
  },
  {
   "cell_type": "code",
   "execution_count": 8,
   "id": "fda03cb2",
   "metadata": {},
   "outputs": [
    {
     "data": {
      "text/html": [
       "<div>\n",
       "<style scoped>\n",
       "    .dataframe tbody tr th:only-of-type {\n",
       "        vertical-align: middle;\n",
       "    }\n",
       "\n",
       "    .dataframe tbody tr th {\n",
       "        vertical-align: top;\n",
       "    }\n",
       "\n",
       "    .dataframe thead th {\n",
       "        text-align: right;\n",
       "    }\n",
       "</style>\n",
       "<table border=\"1\" class=\"dataframe\">\n",
       "  <thead>\n",
       "    <tr style=\"text-align: right;\">\n",
       "      <th></th>\n",
       "      <th>MDVP:Fo(Hz)</th>\n",
       "      <th>MDVP:Fhi(Hz)</th>\n",
       "      <th>MDVP:Flo(Hz)</th>\n",
       "      <th>MDVP:Jitter(%)</th>\n",
       "      <th>MDVP:Jitter(Abs)</th>\n",
       "      <th>MDVP:RAP</th>\n",
       "      <th>MDVP:PPQ</th>\n",
       "      <th>Jitter:DDP</th>\n",
       "      <th>MDVP:Shimmer</th>\n",
       "      <th>MDVP:Shimmer(dB)</th>\n",
       "      <th>...</th>\n",
       "      <th>Shimmer:DDA</th>\n",
       "      <th>NHR</th>\n",
       "      <th>HNR</th>\n",
       "      <th>status</th>\n",
       "      <th>RPDE</th>\n",
       "      <th>DFA</th>\n",
       "      <th>spread1</th>\n",
       "      <th>spread2</th>\n",
       "      <th>D2</th>\n",
       "      <th>PPE</th>\n",
       "    </tr>\n",
       "  </thead>\n",
       "  <tbody>\n",
       "    <tr>\n",
       "      <th>count</th>\n",
       "      <td>195.000000</td>\n",
       "      <td>195.000000</td>\n",
       "      <td>195.000000</td>\n",
       "      <td>195.000000</td>\n",
       "      <td>195.000000</td>\n",
       "      <td>195.000000</td>\n",
       "      <td>195.000000</td>\n",
       "      <td>195.000000</td>\n",
       "      <td>195.000000</td>\n",
       "      <td>195.000000</td>\n",
       "      <td>...</td>\n",
       "      <td>195.000000</td>\n",
       "      <td>195.000000</td>\n",
       "      <td>195.000000</td>\n",
       "      <td>195.000000</td>\n",
       "      <td>195.000000</td>\n",
       "      <td>195.000000</td>\n",
       "      <td>195.000000</td>\n",
       "      <td>195.000000</td>\n",
       "      <td>195.000000</td>\n",
       "      <td>195.000000</td>\n",
       "    </tr>\n",
       "    <tr>\n",
       "      <th>mean</th>\n",
       "      <td>154.228641</td>\n",
       "      <td>197.104918</td>\n",
       "      <td>116.324631</td>\n",
       "      <td>0.006220</td>\n",
       "      <td>0.000044</td>\n",
       "      <td>0.003306</td>\n",
       "      <td>0.003446</td>\n",
       "      <td>0.009920</td>\n",
       "      <td>0.029709</td>\n",
       "      <td>0.282251</td>\n",
       "      <td>...</td>\n",
       "      <td>0.046993</td>\n",
       "      <td>0.024847</td>\n",
       "      <td>21.885974</td>\n",
       "      <td>0.753846</td>\n",
       "      <td>0.498536</td>\n",
       "      <td>0.718099</td>\n",
       "      <td>-5.684397</td>\n",
       "      <td>0.226510</td>\n",
       "      <td>2.381826</td>\n",
       "      <td>0.206552</td>\n",
       "    </tr>\n",
       "    <tr>\n",
       "      <th>std</th>\n",
       "      <td>41.390065</td>\n",
       "      <td>91.491548</td>\n",
       "      <td>43.521413</td>\n",
       "      <td>0.004848</td>\n",
       "      <td>0.000035</td>\n",
       "      <td>0.002968</td>\n",
       "      <td>0.002759</td>\n",
       "      <td>0.008903</td>\n",
       "      <td>0.018857</td>\n",
       "      <td>0.194877</td>\n",
       "      <td>...</td>\n",
       "      <td>0.030459</td>\n",
       "      <td>0.040418</td>\n",
       "      <td>4.425764</td>\n",
       "      <td>0.431878</td>\n",
       "      <td>0.103942</td>\n",
       "      <td>0.055336</td>\n",
       "      <td>1.090208</td>\n",
       "      <td>0.083406</td>\n",
       "      <td>0.382799</td>\n",
       "      <td>0.090119</td>\n",
       "    </tr>\n",
       "    <tr>\n",
       "      <th>min</th>\n",
       "      <td>88.333000</td>\n",
       "      <td>102.145000</td>\n",
       "      <td>65.476000</td>\n",
       "      <td>0.001680</td>\n",
       "      <td>0.000007</td>\n",
       "      <td>0.000680</td>\n",
       "      <td>0.000920</td>\n",
       "      <td>0.002040</td>\n",
       "      <td>0.009540</td>\n",
       "      <td>0.085000</td>\n",
       "      <td>...</td>\n",
       "      <td>0.013640</td>\n",
       "      <td>0.000650</td>\n",
       "      <td>8.441000</td>\n",
       "      <td>0.000000</td>\n",
       "      <td>0.256570</td>\n",
       "      <td>0.574282</td>\n",
       "      <td>-7.964984</td>\n",
       "      <td>0.006274</td>\n",
       "      <td>1.423287</td>\n",
       "      <td>0.044539</td>\n",
       "    </tr>\n",
       "    <tr>\n",
       "      <th>25%</th>\n",
       "      <td>117.572000</td>\n",
       "      <td>134.862500</td>\n",
       "      <td>84.291000</td>\n",
       "      <td>0.003460</td>\n",
       "      <td>0.000020</td>\n",
       "      <td>0.001660</td>\n",
       "      <td>0.001860</td>\n",
       "      <td>0.004985</td>\n",
       "      <td>0.016505</td>\n",
       "      <td>0.148500</td>\n",
       "      <td>...</td>\n",
       "      <td>0.024735</td>\n",
       "      <td>0.005925</td>\n",
       "      <td>19.198000</td>\n",
       "      <td>1.000000</td>\n",
       "      <td>0.421306</td>\n",
       "      <td>0.674758</td>\n",
       "      <td>-6.450096</td>\n",
       "      <td>0.174351</td>\n",
       "      <td>2.099125</td>\n",
       "      <td>0.137451</td>\n",
       "    </tr>\n",
       "    <tr>\n",
       "      <th>50%</th>\n",
       "      <td>148.790000</td>\n",
       "      <td>175.829000</td>\n",
       "      <td>104.315000</td>\n",
       "      <td>0.004940</td>\n",
       "      <td>0.000030</td>\n",
       "      <td>0.002500</td>\n",
       "      <td>0.002690</td>\n",
       "      <td>0.007490</td>\n",
       "      <td>0.022970</td>\n",
       "      <td>0.221000</td>\n",
       "      <td>...</td>\n",
       "      <td>0.038360</td>\n",
       "      <td>0.011660</td>\n",
       "      <td>22.085000</td>\n",
       "      <td>1.000000</td>\n",
       "      <td>0.495954</td>\n",
       "      <td>0.722254</td>\n",
       "      <td>-5.720868</td>\n",
       "      <td>0.218885</td>\n",
       "      <td>2.361532</td>\n",
       "      <td>0.194052</td>\n",
       "    </tr>\n",
       "    <tr>\n",
       "      <th>75%</th>\n",
       "      <td>182.769000</td>\n",
       "      <td>224.205500</td>\n",
       "      <td>140.018500</td>\n",
       "      <td>0.007365</td>\n",
       "      <td>0.000060</td>\n",
       "      <td>0.003835</td>\n",
       "      <td>0.003955</td>\n",
       "      <td>0.011505</td>\n",
       "      <td>0.037885</td>\n",
       "      <td>0.350000</td>\n",
       "      <td>...</td>\n",
       "      <td>0.060795</td>\n",
       "      <td>0.025640</td>\n",
       "      <td>25.075500</td>\n",
       "      <td>1.000000</td>\n",
       "      <td>0.587562</td>\n",
       "      <td>0.761881</td>\n",
       "      <td>-5.046192</td>\n",
       "      <td>0.279234</td>\n",
       "      <td>2.636456</td>\n",
       "      <td>0.252980</td>\n",
       "    </tr>\n",
       "    <tr>\n",
       "      <th>max</th>\n",
       "      <td>260.105000</td>\n",
       "      <td>592.030000</td>\n",
       "      <td>239.170000</td>\n",
       "      <td>0.033160</td>\n",
       "      <td>0.000260</td>\n",
       "      <td>0.021440</td>\n",
       "      <td>0.019580</td>\n",
       "      <td>0.064330</td>\n",
       "      <td>0.119080</td>\n",
       "      <td>1.302000</td>\n",
       "      <td>...</td>\n",
       "      <td>0.169420</td>\n",
       "      <td>0.314820</td>\n",
       "      <td>33.047000</td>\n",
       "      <td>1.000000</td>\n",
       "      <td>0.685151</td>\n",
       "      <td>0.825288</td>\n",
       "      <td>-2.434031</td>\n",
       "      <td>0.450493</td>\n",
       "      <td>3.671155</td>\n",
       "      <td>0.527367</td>\n",
       "    </tr>\n",
       "  </tbody>\n",
       "</table>\n",
       "<p>8 rows × 23 columns</p>\n",
       "</div>"
      ],
      "text/plain": [
       "       MDVP:Fo(Hz)  MDVP:Fhi(Hz)  MDVP:Flo(Hz)  MDVP:Jitter(%)  \\\n",
       "count   195.000000    195.000000    195.000000      195.000000   \n",
       "mean    154.228641    197.104918    116.324631        0.006220   \n",
       "std      41.390065     91.491548     43.521413        0.004848   \n",
       "min      88.333000    102.145000     65.476000        0.001680   \n",
       "25%     117.572000    134.862500     84.291000        0.003460   \n",
       "50%     148.790000    175.829000    104.315000        0.004940   \n",
       "75%     182.769000    224.205500    140.018500        0.007365   \n",
       "max     260.105000    592.030000    239.170000        0.033160   \n",
       "\n",
       "       MDVP:Jitter(Abs)    MDVP:RAP    MDVP:PPQ  Jitter:DDP  MDVP:Shimmer  \\\n",
       "count        195.000000  195.000000  195.000000  195.000000    195.000000   \n",
       "mean           0.000044    0.003306    0.003446    0.009920      0.029709   \n",
       "std            0.000035    0.002968    0.002759    0.008903      0.018857   \n",
       "min            0.000007    0.000680    0.000920    0.002040      0.009540   \n",
       "25%            0.000020    0.001660    0.001860    0.004985      0.016505   \n",
       "50%            0.000030    0.002500    0.002690    0.007490      0.022970   \n",
       "75%            0.000060    0.003835    0.003955    0.011505      0.037885   \n",
       "max            0.000260    0.021440    0.019580    0.064330      0.119080   \n",
       "\n",
       "       MDVP:Shimmer(dB)  ...  Shimmer:DDA         NHR         HNR      status  \\\n",
       "count        195.000000  ...   195.000000  195.000000  195.000000  195.000000   \n",
       "mean           0.282251  ...     0.046993    0.024847   21.885974    0.753846   \n",
       "std            0.194877  ...     0.030459    0.040418    4.425764    0.431878   \n",
       "min            0.085000  ...     0.013640    0.000650    8.441000    0.000000   \n",
       "25%            0.148500  ...     0.024735    0.005925   19.198000    1.000000   \n",
       "50%            0.221000  ...     0.038360    0.011660   22.085000    1.000000   \n",
       "75%            0.350000  ...     0.060795    0.025640   25.075500    1.000000   \n",
       "max            1.302000  ...     0.169420    0.314820   33.047000    1.000000   \n",
       "\n",
       "             RPDE         DFA     spread1     spread2          D2         PPE  \n",
       "count  195.000000  195.000000  195.000000  195.000000  195.000000  195.000000  \n",
       "mean     0.498536    0.718099   -5.684397    0.226510    2.381826    0.206552  \n",
       "std      0.103942    0.055336    1.090208    0.083406    0.382799    0.090119  \n",
       "min      0.256570    0.574282   -7.964984    0.006274    1.423287    0.044539  \n",
       "25%      0.421306    0.674758   -6.450096    0.174351    2.099125    0.137451  \n",
       "50%      0.495954    0.722254   -5.720868    0.218885    2.361532    0.194052  \n",
       "75%      0.587562    0.761881   -5.046192    0.279234    2.636456    0.252980  \n",
       "max      0.685151    0.825288   -2.434031    0.450493    3.671155    0.527367  \n",
       "\n",
       "[8 rows x 23 columns]"
      ]
     },
     "execution_count": 8,
     "metadata": {},
     "output_type": "execute_result"
    }
   ],
   "source": [
    "data.describe()"
   ]
  },
  {
   "cell_type": "code",
   "execution_count": 9,
   "id": "8b96e8dd",
   "metadata": {},
   "outputs": [
    {
     "data": {
      "text/plain": [
       "name                0\n",
       "MDVP:Fo(Hz)         0\n",
       "MDVP:Fhi(Hz)        0\n",
       "MDVP:Flo(Hz)        0\n",
       "MDVP:Jitter(%)      0\n",
       "MDVP:Jitter(Abs)    0\n",
       "MDVP:RAP            0\n",
       "MDVP:PPQ            0\n",
       "Jitter:DDP          0\n",
       "MDVP:Shimmer        0\n",
       "MDVP:Shimmer(dB)    0\n",
       "Shimmer:APQ3        0\n",
       "Shimmer:APQ5        0\n",
       "MDVP:APQ            0\n",
       "Shimmer:DDA         0\n",
       "NHR                 0\n",
       "HNR                 0\n",
       "status              0\n",
       "RPDE                0\n",
       "DFA                 0\n",
       "spread1             0\n",
       "spread2             0\n",
       "D2                  0\n",
       "PPE                 0\n",
       "dtype: int64"
      ]
     },
     "execution_count": 9,
     "metadata": {},
     "output_type": "execute_result"
    }
   ],
   "source": [
    "data.isnull().sum()"
   ]
  },
  {
   "cell_type": "code",
   "execution_count": 10,
   "id": "d6f91687",
   "metadata": {},
   "outputs": [],
   "source": [
    "features=data.loc[:,data.columns!='status'].values[:,1:]\n",
    "labels=data.loc[:,'status'].values"
   ]
  },
  {
   "cell_type": "code",
   "execution_count": 11,
   "id": "361d6ae6",
   "metadata": {},
   "outputs": [
    {
     "name": "stdout",
     "output_type": "stream",
     "text": [
      "147 48\n"
     ]
    }
   ],
   "source": [
    "print(labels[labels==1].shape[0], labels[labels==0].shape[0])"
   ]
  },
  {
   "cell_type": "code",
   "execution_count": 12,
   "id": "a3c668b0",
   "metadata": {},
   "outputs": [],
   "source": [
    "finaldata=data.drop(['status','name'],axis=1)"
   ]
  },
  {
   "cell_type": "markdown",
   "id": "eaf4586f",
   "metadata": {},
   "source": [
    "# Exploratory data analysis"
   ]
  },
  {
   "cell_type": "markdown",
   "id": "75d9f78b",
   "metadata": {},
   "source": [
    "# Detection and removal of outliers"
   ]
  },
  {
   "cell_type": "code",
   "execution_count": 13,
   "id": "a33fb714",
   "metadata": {},
   "outputs": [
    {
     "name": "stderr",
     "output_type": "stream",
     "text": [
      "C:\\Users\\15264\\Anaconda3\\lib\\site-packages\\seaborn\\_decorators.py:36: FutureWarning: Pass the following variable as a keyword arg: x. From version 0.12, the only valid positional argument will be `data`, and passing other arguments without an explicit keyword will result in an error or misinterpretation.\n",
      "  warnings.warn(\n"
     ]
    },
    {
     "data": {
      "image/png": "[encoded data removed]",
      "text/plain": [
       "<Figure size 432x288 with 1 Axes>"
      ]
     },
     "metadata": {
      "needs_background": "light"
     },
     "output_type": "display_data"
    },
    {
     "name": "stderr",
     "output_type": "stream",
     "text": [
      "C:\\Users\\15264\\Anaconda3\\lib\\site-packages\\seaborn\\_decorators.py:36: FutureWarning: Pass the following variable as a keyword arg: x. From version 0.12, the only valid positional argument will be `data`, and passing other arguments without an explicit keyword will result in an error or misinterpretation.\n",
      "  warnings.warn(\n"
     ]
    },
    {
     "data": {
      "image/png": "[encoded data removed]",
      "text/plain": [
       "<Figure size 432x288 with 1 Axes>"
      ]
     },
     "metadata": {
      "needs_background": "light"
     },
     "output_type": "display_data"
    },
    {
     "name": "stderr",
     "output_type": "stream",
     "text": [
      "C:\\Users\\15264\\Anaconda3\\lib\\site-packages\\seaborn\\_decorators.py:36: FutureWarning: Pass the following variable as a keyword arg: x. From version 0.12, the only valid positional argument will be `data`, and passing other arguments without an explicit keyword will result in an error or misinterpretation.\n",
      "  warnings.warn(\n"
     ]
    },
    {
     "data": {
      "image/png": "[encoded data removed]",
      "text/plain": [
       "<Figure size 432x288 with 1 Axes>"
      ]
     },
     "metadata": {
      "needs_background": "light"
     },
     "output_type": "display_data"
    },
    {
     "name": "stderr",
     "output_type": "stream",
     "text": [
      "C:\\Users\\15264\\Anaconda3\\lib\\site-packages\\seaborn\\_decorators.py:36: FutureWarning: Pass the following variable as a keyword arg: x. From version 0.12, the only valid positional argument will be `data`, and passing other arguments without an explicit keyword will result in an error or misinterpretation.\n",
      "  warnings.warn(\n"
     ]
    },
    {
     "data": {
      "image/png": "[encoded data removed]",
      "text/plain": [
       "<Figure size 432x288 with 1 Axes>"
      ]
     },
     "metadata": {
      "needs_background": "light"
     },
     "output_type": "display_data"
    },
    {
     "name": "stderr",
     "output_type": "stream",
     "text": [
      "C:\\Users\\15264\\Anaconda3\\lib\\site-packages\\seaborn\\_decorators.py:36: FutureWarning: Pass the following variable as a keyword arg: x. From version 0.12, the only valid positional argument will be `data`, and passing other arguments without an explicit keyword will result in an error or misinterpretation.\n",
      "  warnings.warn(\n"
     ]
    },
    {
     "data": {
      "image/png": "[encoded data removed]",
      "text/plain": [
       "<Figure size 432x288 with 1 Axes>"
      ]
     },
     "metadata": {
      "needs_background": "light"
     },
     "output_type": "display_data"
    },
    {
     "name": "stderr",
     "output_type": "stream",
     "text": [
      "C:\\Users\\15264\\Anaconda3\\lib\\site-packages\\seaborn\\_decorators.py:36: FutureWarning: Pass the following variable as a keyword arg: x. From version 0.12, the only valid positional argument will be `data`, and passing other arguments without an explicit keyword will result in an error or misinterpretation.\n",
      "  warnings.warn(\n"
     ]
    },
    {
     "data": {
      "image/png": "[encoded data removed]",
      "text/plain": [
       "<Figure size 432x288 with 1 Axes>"
      ]
     },
     "metadata": {
      "needs_background": "light"
     },
     "output_type": "display_data"
    },
    {
     "name": "stderr",
     "output_type": "stream",
     "text": [
      "C:\\Users\\15264\\Anaconda3\\lib\\site-packages\\seaborn\\_decorators.py:36: FutureWarning: Pass the following variable as a keyword arg: x. From version 0.12, the only valid positional argument will be `data`, and passing other arguments without an explicit keyword will result in an error or misinterpretation.\n",
      "  warnings.warn(\n"
     ]
    },
    {
     "data": {
      "image/png": "[encoded data removed]",
      "text/plain": [
       "<Figure size 432x288 with 1 Axes>"
      ]
     },
     "metadata": {
      "needs_background": "light"
     },
     "output_type": "display_data"
    },
    {
     "name": "stderr",
     "output_type": "stream",
     "text": [
      "C:\\Users\\15264\\Anaconda3\\lib\\site-packages\\seaborn\\_decorators.py:36: FutureWarning: Pass the following variable as a keyword arg: x. From version 0.12, the only valid positional argument will be `data`, and passing other arguments without an explicit keyword will result in an error or misinterpretation.\n",
      "  warnings.warn(\n"
     ]
    },
    {
     "data": {
      "image/png": "[encoded data removed]",
      "text/plain": [
       "<Figure size 432x288 with 1 Axes>"
      ]
     },
     "metadata": {
      "needs_background": "light"
     },
     "output_type": "display_data"
    },
    {
     "name": "stderr",
     "output_type": "stream",
     "text": [
      "C:\\Users\\15264\\Anaconda3\\lib\\site-packages\\seaborn\\_decorators.py:36: FutureWarning: Pass the following variable as a keyword arg: x. From version 0.12, the only valid positional argument will be `data`, and passing other arguments without an explicit keyword will result in an error or misinterpretation.\n",
      "  warnings.warn(\n"
     ]
    },
    {
     "data": {
      "image/png": "[encoded data removed]",
      "text/plain": [
       "<Figure size 432x288 with 1 Axes>"
      ]
     },
     "metadata": {
      "needs_background": "light"
     },
     "output_type": "display_data"
    },
    {
     "name": "stderr",
     "output_type": "stream",
     "text": [
      "C:\\Users\\15264\\Anaconda3\\lib\\site-packages\\seaborn\\_decorators.py:36: FutureWarning: Pass the following variable as a keyword arg: x. From version 0.12, the only valid positional argument will be `data`, and passing other arguments without an explicit keyword will result in an error or misinterpretation.\n",
      "  warnings.warn(\n"
     ]
    },
    {
     "data": {
      "image/png": "[encoded data removed]",
      "text/plain": [
       "<Figure size 432x288 with 1 Axes>"
      ]
     },
     "metadata": {
      "needs_background": "light"
     },
     "output_type": "display_data"
    },
    {
     "name": "stderr",
     "output_type": "stream",
     "text": [
      "C:\\Users\\15264\\Anaconda3\\lib\\site-packages\\seaborn\\_decorators.py:36: FutureWarning: Pass the following variable as a keyword arg: x. From version 0.12, the only valid positional argument will be `data`, and passing other arguments without an explicit keyword will result in an error or misinterpretation.\n",
      "  warnings.warn(\n"
     ]
    },
    {
     "data": {
      "image/png": "[encoded data removed]",
      "text/plain": [
       "<Figure size 432x288 with 1 Axes>"
      ]
     },
     "metadata": {
      "needs_background": "light"
     },
     "output_type": "display_data"
    },
    {
     "name": "stderr",
     "output_type": "stream",
     "text": [
      "C:\\Users\\15264\\Anaconda3\\lib\\site-packages\\seaborn\\_decorators.py:36: FutureWarning: Pass the following variable as a keyword arg: x. From version 0.12, the only valid positional argument will be `data`, and passing other arguments without an explicit keyword will result in an error or misinterpretation.\n",
      "  warnings.warn(\n"
     ]
    },
    {
     "data": {
      "image/png": "[encoded data removed]",
      "text/plain": [
       "<Figure size 432x288 with 1 Axes>"
      ]
     },
     "metadata": {
      "needs_background": "light"
     },
     "output_type": "display_data"
    },
    {
     "name": "stderr",
     "output_type": "stream",
     "text": [
      "C:\\Users\\15264\\Anaconda3\\lib\\site-packages\\seaborn\\_decorators.py:36: FutureWarning: Pass the following variable as a keyword arg: x. From version 0.12, the only valid positional argument will be `data`, and passing other arguments without an explicit keyword will result in an error or misinterpretation.\n",
      "  warnings.warn(\n"
     ]
    },
    {
     "data": {
      "image/png": "[encoded data removed]",
      "text/plain": [
       "<Figure size 432x288 with 1 Axes>"
      ]
     },
     "metadata": {
      "needs_background": "light"
     },
     "output_type": "display_data"
    },
    {
     "name": "stderr",
     "output_type": "stream",
     "text": [
      "C:\\Users\\15264\\Anaconda3\\lib\\site-packages\\seaborn\\_decorators.py:36: FutureWarning: Pass the following variable as a keyword arg: x. From version 0.12, the only valid positional argument will be `data`, and passing other arguments without an explicit keyword will result in an error or misinterpretation.\n",
      "  warnings.warn(\n"
     ]
    },
    {
     "data": {
      "image/png": "[encoded data removed]",
      "text/plain": [
       "<Figure size 432x288 with 1 Axes>"
      ]
     },
     "metadata": {
      "needs_background": "light"
     },
     "output_type": "display_data"
    },
    {
     "name": "stderr",
     "output_type": "stream",
     "text": [
      "C:\\Users\\15264\\Anaconda3\\lib\\site-packages\\seaborn\\_decorators.py:36: FutureWarning: Pass the following variable as a keyword arg: x. From version 0.12, the only valid positional argument will be `data`, and passing other arguments without an explicit keyword will result in an error or misinterpretation.\n",
      "  warnings.warn(\n"
     ]
    },
    {
     "data": {
      "image/png": "[encoded data removed]",
      "text/plain": [
       "<Figure size 432x288 with 1 Axes>"
      ]
     },
     "metadata": {
      "needs_background": "light"
     },
     "output_type": "display_data"
    },
    {
     "name": "stderr",
     "output_type": "stream",
     "text": [
      "C:\\Users\\15264\\Anaconda3\\lib\\site-packages\\seaborn\\_decorators.py:36: FutureWarning: Pass the following variable as a keyword arg: x. From version 0.12, the only valid positional argument will be `data`, and passing other arguments without an explicit keyword will result in an error or misinterpretation.\n",
      "  warnings.warn(\n"
     ]
    },
    {
     "data": {
      "image/png": "[encoded data removed]",
      "text/plain": [
       "<Figure size 432x288 with 1 Axes>"
      ]
     },
     "metadata": {
      "needs_background": "light"
     },
     "output_type": "display_data"
    },
    {
     "name": "stderr",
     "output_type": "stream",
     "text": [
      "C:\\Users\\15264\\Anaconda3\\lib\\site-packages\\seaborn\\_decorators.py:36: FutureWarning: Pass the following variable as a keyword arg: x. From version 0.12, the only valid positional argument will be `data`, and passing other arguments without an explicit keyword will result in an error or misinterpretation.\n",
      "  warnings.warn(\n"
     ]
    },
    {
     "data": {
      "image/png": "[encoded data removed]",
      "text/plain": [
       "<Figure size 432x288 with 1 Axes>"
      ]
     },
     "metadata": {
      "needs_background": "light"
     },
     "output_type": "display_data"
    },
    {
     "name": "stderr",
     "output_type": "stream",
     "text": [
      "C:\\Users\\15264\\Anaconda3\\lib\\site-packages\\seaborn\\_decorators.py:36: FutureWarning: Pass the following variable as a keyword arg: x. From version 0.12, the only valid positional argument will be `data`, and passing other arguments without an explicit keyword will result in an error or misinterpretation.\n",
      "  warnings.warn(\n"
     ]
    },
    {
     "data": {
      "image/png": "[encoded data removed]",
      "text/plain": [
       "<Figure size 432x288 with 1 Axes>"
      ]
     },
     "metadata": {
      "needs_background": "light"
     },
     "output_type": "display_data"
    },
    {
     "name": "stderr",
     "output_type": "stream",
     "text": [
      "C:\\Users\\15264\\Anaconda3\\lib\\site-packages\\seaborn\\_decorators.py:36: FutureWarning: Pass the following variable as a keyword arg: x. From version 0.12, the only valid positional argument will be `data`, and passing other arguments without an explicit keyword will result in an error or misinterpretation.\n",
      "  warnings.warn(\n"
     ]
    },
    {
     "data": {
      "image/png": "[encoded data removed]",
      "text/plain": [
       "<Figure size 432x288 with 1 Axes>"
      ]
     },
     "metadata": {
      "needs_background": "light"
     },
     "output_type": "display_data"
    },
    {
     "name": "stderr",
     "output_type": "stream",
     "text": [
      "C:\\Users\\15264\\Anaconda3\\lib\\site-packages\\seaborn\\_decorators.py:36: FutureWarning: Pass the following variable as a keyword arg: x. From version 0.12, the only valid positional argument will be `data`, and passing other arguments without an explicit keyword will result in an error or misinterpretation.\n",
      "  warnings.warn(\n"
     ]
    },
    {
     "data": {
      "image/png": "[encoded data removed]",
      "text/plain": [
       "<Figure size 432x288 with 1 Axes>"
      ]
     },
     "metadata": {
      "needs_background": "light"
     },
     "output_type": "display_data"
    },
    {
     "name": "stderr",
     "output_type": "stream",
     "text": [
      "C:\\Users\\15264\\Anaconda3\\lib\\site-packages\\seaborn\\_decorators.py:36: FutureWarning: Pass the following variable as a keyword arg: x. From version 0.12, the only valid positional argument will be `data`, and passing other arguments without an explicit keyword will result in an error or misinterpretation.\n",
      "  warnings.warn(\n"
     ]
    },
    {
     "data": {
      "image/png": "[encoded data removed]",
      "text/plain": [
       "<Figure size 432x288 with 1 Axes>"
      ]
     },
     "metadata": {
      "needs_background": "light"
     },
     "output_type": "display_data"
    },
    {
     "name": "stderr",
     "output_type": "stream",
     "text": [
      "C:\\Users\\15264\\Anaconda3\\lib\\site-packages\\seaborn\\_decorators.py:36: FutureWarning: Pass the following variable as a keyword arg: x. From version 0.12, the only valid positional argument will be `data`, and passing other arguments without an explicit keyword will result in an error or misinterpretation.\n",
      "  warnings.warn(\n"
     ]
    },
    {
     "data": {
      "image/png": "[encoded data removed]",
      "text/plain": [
       "<Figure size 432x288 with 1 Axes>"
      ]
     },
     "metadata": {
      "needs_background": "light"
     },
     "output_type": "display_data"
    }
   ],
   "source": [
    "for column in finaldata.loc[:, finaldata.columns!='status']:\n",
    "    sns.boxplot(finaldata[column])\n",
    "    plt.show()"
   ]
  },
  {
   "cell_type": "code",
   "execution_count": 14,
   "id": "23fedc79",
   "metadata": {
    "scrolled": true
   },
   "outputs": [
    {
     "data": {
      "text/html": [
       "<div>\n",
       "<style scoped>\n",
       "    .dataframe tbody tr th:only-of-type {\n",
       "        vertical-align: middle;\n",
       "    }\n",
       "\n",
       "    .dataframe tbody tr th {\n",
       "        vertical-align: top;\n",
       "    }\n",
       "\n",
       "    .dataframe thead th {\n",
       "        text-align: right;\n",
       "    }\n",
       "</style>\n",
       "<table border=\"1\" class=\"dataframe\">\n",
       "  <thead>\n",
       "    <tr style=\"text-align: right;\">\n",
       "      <th></th>\n",
       "      <th>MDVP:Fo(Hz)</th>\n",
       "      <th>MDVP:Fhi(Hz)</th>\n",
       "      <th>MDVP:Flo(Hz)</th>\n",
       "      <th>MDVP:Jitter(%)</th>\n",
       "      <th>MDVP:Jitter(Abs)</th>\n",
       "      <th>MDVP:RAP</th>\n",
       "      <th>MDVP:PPQ</th>\n",
       "      <th>Jitter:DDP</th>\n",
       "      <th>MDVP:Shimmer</th>\n",
       "      <th>MDVP:Shimmer(dB)</th>\n",
       "      <th>...</th>\n",
       "      <th>MDVP:APQ</th>\n",
       "      <th>Shimmer:DDA</th>\n",
       "      <th>NHR</th>\n",
       "      <th>HNR</th>\n",
       "      <th>RPDE</th>\n",
       "      <th>DFA</th>\n",
       "      <th>spread1</th>\n",
       "      <th>spread2</th>\n",
       "      <th>D2</th>\n",
       "      <th>PPE</th>\n",
       "    </tr>\n",
       "  </thead>\n",
       "  <tbody>\n",
       "    <tr>\n",
       "      <th>0</th>\n",
       "      <td>119.992</td>\n",
       "      <td>157.302</td>\n",
       "      <td>74.997</td>\n",
       "      <td>0.007840</td>\n",
       "      <td>0.00007</td>\n",
       "      <td>0.00370</td>\n",
       "      <td>0.005540</td>\n",
       "      <td>0.01109</td>\n",
       "      <td>0.04374</td>\n",
       "      <td>0.426</td>\n",
       "      <td>...</td>\n",
       "      <td>0.02971</td>\n",
       "      <td>0.06545</td>\n",
       "      <td>0.022110</td>\n",
       "      <td>21.033</td>\n",
       "      <td>0.414783</td>\n",
       "      <td>0.815285</td>\n",
       "      <td>-4.813031</td>\n",
       "      <td>0.266482</td>\n",
       "      <td>2.301442</td>\n",
       "      <td>0.284654</td>\n",
       "    </tr>\n",
       "    <tr>\n",
       "      <th>1</th>\n",
       "      <td>122.400</td>\n",
       "      <td>148.650</td>\n",
       "      <td>113.819</td>\n",
       "      <td>0.009680</td>\n",
       "      <td>0.00008</td>\n",
       "      <td>0.00465</td>\n",
       "      <td>0.006960</td>\n",
       "      <td>0.01394</td>\n",
       "      <td>0.06134</td>\n",
       "      <td>0.626</td>\n",
       "      <td>...</td>\n",
       "      <td>0.04368</td>\n",
       "      <td>0.09403</td>\n",
       "      <td>0.019290</td>\n",
       "      <td>19.085</td>\n",
       "      <td>0.458359</td>\n",
       "      <td>0.819521</td>\n",
       "      <td>-4.075192</td>\n",
       "      <td>0.335590</td>\n",
       "      <td>2.486855</td>\n",
       "      <td>0.368674</td>\n",
       "    </tr>\n",
       "    <tr>\n",
       "      <th>2</th>\n",
       "      <td>116.682</td>\n",
       "      <td>131.111</td>\n",
       "      <td>111.555</td>\n",
       "      <td>0.010500</td>\n",
       "      <td>0.00009</td>\n",
       "      <td>0.00544</td>\n",
       "      <td>0.007098</td>\n",
       "      <td>0.01633</td>\n",
       "      <td>0.05233</td>\n",
       "      <td>0.482</td>\n",
       "      <td>...</td>\n",
       "      <td>0.03590</td>\n",
       "      <td>0.08270</td>\n",
       "      <td>0.013090</td>\n",
       "      <td>20.651</td>\n",
       "      <td>0.429895</td>\n",
       "      <td>0.825288</td>\n",
       "      <td>-4.443179</td>\n",
       "      <td>0.311173</td>\n",
       "      <td>2.342259</td>\n",
       "      <td>0.332634</td>\n",
       "    </tr>\n",
       "    <tr>\n",
       "      <th>3</th>\n",
       "      <td>116.676</td>\n",
       "      <td>137.871</td>\n",
       "      <td>111.366</td>\n",
       "      <td>0.009970</td>\n",
       "      <td>0.00009</td>\n",
       "      <td>0.00502</td>\n",
       "      <td>0.006980</td>\n",
       "      <td>0.01505</td>\n",
       "      <td>0.05492</td>\n",
       "      <td>0.517</td>\n",
       "      <td>...</td>\n",
       "      <td>0.03772</td>\n",
       "      <td>0.08771</td>\n",
       "      <td>0.013530</td>\n",
       "      <td>20.644</td>\n",
       "      <td>0.434969</td>\n",
       "      <td>0.819235</td>\n",
       "      <td>-4.117501</td>\n",
       "      <td>0.334147</td>\n",
       "      <td>2.405554</td>\n",
       "      <td>0.368975</td>\n",
       "    </tr>\n",
       "    <tr>\n",
       "      <th>4</th>\n",
       "      <td>116.014</td>\n",
       "      <td>141.781</td>\n",
       "      <td>110.655</td>\n",
       "      <td>0.012840</td>\n",
       "      <td>0.00011</td>\n",
       "      <td>0.00655</td>\n",
       "      <td>0.007098</td>\n",
       "      <td>0.01966</td>\n",
       "      <td>0.06425</td>\n",
       "      <td>0.584</td>\n",
       "      <td>...</td>\n",
       "      <td>0.04465</td>\n",
       "      <td>0.10470</td>\n",
       "      <td>0.017670</td>\n",
       "      <td>19.649</td>\n",
       "      <td>0.417356</td>\n",
       "      <td>0.823484</td>\n",
       "      <td>-3.747787</td>\n",
       "      <td>0.234513</td>\n",
       "      <td>2.332180</td>\n",
       "      <td>0.410335</td>\n",
       "    </tr>\n",
       "    <tr>\n",
       "      <th>...</th>\n",
       "      <td>...</td>\n",
       "      <td>...</td>\n",
       "      <td>...</td>\n",
       "      <td>...</td>\n",
       "      <td>...</td>\n",
       "      <td>...</td>\n",
       "      <td>...</td>\n",
       "      <td>...</td>\n",
       "      <td>...</td>\n",
       "      <td>...</td>\n",
       "      <td>...</td>\n",
       "      <td>...</td>\n",
       "      <td>...</td>\n",
       "      <td>...</td>\n",
       "      <td>...</td>\n",
       "      <td>...</td>\n",
       "      <td>...</td>\n",
       "      <td>...</td>\n",
       "      <td>...</td>\n",
       "      <td>...</td>\n",
       "      <td>...</td>\n",
       "    </tr>\n",
       "    <tr>\n",
       "      <th>190</th>\n",
       "      <td>174.188</td>\n",
       "      <td>230.978</td>\n",
       "      <td>94.261</td>\n",
       "      <td>0.004590</td>\n",
       "      <td>0.00003</td>\n",
       "      <td>0.00263</td>\n",
       "      <td>0.002590</td>\n",
       "      <td>0.00790</td>\n",
       "      <td>0.04087</td>\n",
       "      <td>0.405</td>\n",
       "      <td>...</td>\n",
       "      <td>0.02745</td>\n",
       "      <td>0.07008</td>\n",
       "      <td>0.027640</td>\n",
       "      <td>19.517</td>\n",
       "      <td>0.448439</td>\n",
       "      <td>0.657899</td>\n",
       "      <td>-6.538586</td>\n",
       "      <td>0.121952</td>\n",
       "      <td>2.657476</td>\n",
       "      <td>0.133050</td>\n",
       "    </tr>\n",
       "    <tr>\n",
       "      <th>191</th>\n",
       "      <td>209.516</td>\n",
       "      <td>253.017</td>\n",
       "      <td>89.488</td>\n",
       "      <td>0.005640</td>\n",
       "      <td>0.00003</td>\n",
       "      <td>0.00331</td>\n",
       "      <td>0.002920</td>\n",
       "      <td>0.00994</td>\n",
       "      <td>0.02751</td>\n",
       "      <td>0.263</td>\n",
       "      <td>...</td>\n",
       "      <td>0.01879</td>\n",
       "      <td>0.04812</td>\n",
       "      <td>0.018100</td>\n",
       "      <td>19.147</td>\n",
       "      <td>0.431674</td>\n",
       "      <td>0.683244</td>\n",
       "      <td>-6.195325</td>\n",
       "      <td>0.129303</td>\n",
       "      <td>2.784312</td>\n",
       "      <td>0.168895</td>\n",
       "    </tr>\n",
       "    <tr>\n",
       "      <th>192</th>\n",
       "      <td>174.688</td>\n",
       "      <td>240.005</td>\n",
       "      <td>74.287</td>\n",
       "      <td>0.013222</td>\n",
       "      <td>0.00008</td>\n",
       "      <td>0.00624</td>\n",
       "      <td>0.005640</td>\n",
       "      <td>0.01873</td>\n",
       "      <td>0.02308</td>\n",
       "      <td>0.256</td>\n",
       "      <td>...</td>\n",
       "      <td>0.01667</td>\n",
       "      <td>0.03804</td>\n",
       "      <td>0.055212</td>\n",
       "      <td>17.883</td>\n",
       "      <td>0.407567</td>\n",
       "      <td>0.655683</td>\n",
       "      <td>-6.787197</td>\n",
       "      <td>0.158453</td>\n",
       "      <td>2.679772</td>\n",
       "      <td>0.131728</td>\n",
       "    </tr>\n",
       "    <tr>\n",
       "      <th>193</th>\n",
       "      <td>198.764</td>\n",
       "      <td>358.220</td>\n",
       "      <td>74.904</td>\n",
       "      <td>0.007400</td>\n",
       "      <td>0.00004</td>\n",
       "      <td>0.00370</td>\n",
       "      <td>0.003900</td>\n",
       "      <td>0.01109</td>\n",
       "      <td>0.02296</td>\n",
       "      <td>0.241</td>\n",
       "      <td>...</td>\n",
       "      <td>0.01588</td>\n",
       "      <td>0.03794</td>\n",
       "      <td>0.055212</td>\n",
       "      <td>19.020</td>\n",
       "      <td>0.451221</td>\n",
       "      <td>0.643956</td>\n",
       "      <td>-6.744577</td>\n",
       "      <td>0.207454</td>\n",
       "      <td>2.138608</td>\n",
       "      <td>0.123306</td>\n",
       "    </tr>\n",
       "    <tr>\n",
       "      <th>194</th>\n",
       "      <td>214.289</td>\n",
       "      <td>260.277</td>\n",
       "      <td>77.973</td>\n",
       "      <td>0.005670</td>\n",
       "      <td>0.00003</td>\n",
       "      <td>0.00295</td>\n",
       "      <td>0.003170</td>\n",
       "      <td>0.00885</td>\n",
       "      <td>0.01884</td>\n",
       "      <td>0.190</td>\n",
       "      <td>...</td>\n",
       "      <td>0.01373</td>\n",
       "      <td>0.03078</td>\n",
       "      <td>0.043980</td>\n",
       "      <td>21.209</td>\n",
       "      <td>0.462803</td>\n",
       "      <td>0.664357</td>\n",
       "      <td>-5.724056</td>\n",
       "      <td>0.190667</td>\n",
       "      <td>2.555477</td>\n",
       "      <td>0.148569</td>\n",
       "    </tr>\n",
       "  </tbody>\n",
       "</table>\n",
       "<p>195 rows × 22 columns</p>\n",
       "</div>"
      ],
      "text/plain": [
       "     MDVP:Fo(Hz)  MDVP:Fhi(Hz)  MDVP:Flo(Hz)  MDVP:Jitter(%)  \\\n",
       "0        119.992       157.302        74.997        0.007840   \n",
       "1        122.400       148.650       113.819        0.009680   \n",
       "2        116.682       131.111       111.555        0.010500   \n",
       "3        116.676       137.871       111.366        0.009970   \n",
       "4        116.014       141.781       110.655        0.012840   \n",
       "..           ...           ...           ...             ...   \n",
       "190      174.188       230.978        94.261        0.004590   \n",
       "191      209.516       253.017        89.488        0.005640   \n",
       "192      174.688       240.005        74.287        0.013222   \n",
       "193      198.764       358.220        74.904        0.007400   \n",
       "194      214.289       260.277        77.973        0.005670   \n",
       "\n",
       "     MDVP:Jitter(Abs)  MDVP:RAP  MDVP:PPQ  Jitter:DDP  MDVP:Shimmer  \\\n",
       "0             0.00007   0.00370  0.005540     0.01109       0.04374   \n",
       "1             0.00008   0.00465  0.006960     0.01394       0.06134   \n",
       "2             0.00009   0.00544  0.007098     0.01633       0.05233   \n",
       "3             0.00009   0.00502  0.006980     0.01505       0.05492   \n",
       "4             0.00011   0.00655  0.007098     0.01966       0.06425   \n",
       "..                ...       ...       ...         ...           ...   \n",
       "190           0.00003   0.00263  0.002590     0.00790       0.04087   \n",
       "191           0.00003   0.00331  0.002920     0.00994       0.02751   \n",
       "192           0.00008   0.00624  0.005640     0.01873       0.02308   \n",
       "193           0.00004   0.00370  0.003900     0.01109       0.02296   \n",
       "194           0.00003   0.00295  0.003170     0.00885       0.01884   \n",
       "\n",
       "     MDVP:Shimmer(dB)  ...  MDVP:APQ  Shimmer:DDA       NHR     HNR      RPDE  \\\n",
       "0               0.426  ...   0.02971      0.06545  0.022110  21.033  0.414783   \n",
       "1               0.626  ...   0.04368      0.09403  0.019290  19.085  0.458359   \n",
       "2               0.482  ...   0.03590      0.08270  0.013090  20.651  0.429895   \n",
       "3               0.517  ...   0.03772      0.08771  0.013530  20.644  0.434969   \n",
       "4               0.584  ...   0.04465      0.10470  0.017670  19.649  0.417356   \n",
       "..                ...  ...       ...          ...       ...     ...       ...   \n",
       "190             0.405  ...   0.02745      0.07008  0.027640  19.517  0.448439   \n",
       "191             0.263  ...   0.01879      0.04812  0.018100  19.147  0.431674   \n",
       "192             0.256  ...   0.01667      0.03804  0.055212  17.883  0.407567   \n",
       "193             0.241  ...   0.01588      0.03794  0.055212  19.020  0.451221   \n",
       "194             0.190  ...   0.01373      0.03078  0.043980  21.209  0.462803   \n",
       "\n",
       "          DFA   spread1   spread2        D2       PPE  \n",
       "0    0.815285 -4.813031  0.266482  2.301442  0.284654  \n",
       "1    0.819521 -4.075192  0.335590  2.486855  0.368674  \n",
       "2    0.825288 -4.443179  0.311173  2.342259  0.332634  \n",
       "3    0.819235 -4.117501  0.334147  2.405554  0.368975  \n",
       "4    0.823484 -3.747787  0.234513  2.332180  0.410335  \n",
       "..        ...       ...       ...       ...       ...  \n",
       "190  0.657899 -6.538586  0.121952  2.657476  0.133050  \n",
       "191  0.683244 -6.195325  0.129303  2.784312  0.168895  \n",
       "192  0.655683 -6.787197  0.158453  2.679772  0.131728  \n",
       "193  0.643956 -6.744577  0.207454  2.138608  0.123306  \n",
       "194  0.664357 -5.724056  0.190667  2.555477  0.148569  \n",
       "\n",
       "[195 rows x 22 columns]"
      ]
     },
     "execution_count": 14,
     "metadata": {},
     "output_type": "execute_result"
    }
   ],
   "source": [
    "df_outlier_removed=pd.DataFrame()\n",
    "def remove_outlier_IQR(df):\n",
    "    Q1=df.quantile(0.25)\n",
    "    Q3=df.quantile(0.75)\n",
    "    IQR=Q3-Q1\n",
    "    width=1.5\n",
    "    lower=Q1-(width*IQR)\n",
    "    upper=Q3+(width*IQR)\n",
    "    \n",
    "    df_final=np.where(df>upper,upper,np.where(df<lower,lower,df))\n",
    "    return df_final\n",
    "\n",
    "for column in finaldata.loc[:, finaldata.columns!='diagnosis']:\n",
    "    df_outlier_removed[column]=remove_outlier_IQR(finaldata[column])\n",
    "\n",
    "df_outlier_removed.shape\n",
    "df_outlier_removed"
   ]
  },
  {
   "cell_type": "code",
   "execution_count": 51,
   "id": "56dd4459",
   "metadata": {},
   "outputs": [
    {
     "name": "stderr",
     "output_type": "stream",
     "text": [
      "C:\\Users\\15264\\Anaconda3\\lib\\site-packages\\seaborn\\_decorators.py:36: FutureWarning: Pass the following variable as a keyword arg: x. From version 0.12, the only valid positional argument will be `data`, and passing other arguments without an explicit keyword will result in an error or misinterpretation.\n",
      "  warnings.warn(\n"
     ]
    },
    {
     "data": {
      "image/png": "[encoded data removed]",
      "text/plain": [
       "<Figure size 432x288 with 1 Axes>"
      ]
     },
     "metadata": {
      "needs_background": "light"
     },
     "output_type": "display_data"
    },
    {
     "name": "stderr",
     "output_type": "stream",
     "text": [
      "C:\\Users\\15264\\Anaconda3\\lib\\site-packages\\seaborn\\_decorators.py:36: FutureWarning: Pass the following variable as a keyword arg: x. From version 0.12, the only valid positional argument will be `data`, and passing other arguments without an explicit keyword will result in an error or misinterpretation.\n",
      "  warnings.warn(\n"
     ]
    },
    {
     "data": {
      "image/png": "[encoded data removed]",
      "text/plain": [
       "<Figure size 432x288 with 1 Axes>"
      ]
     },
     "metadata": {
      "needs_background": "light"
     },
     "output_type": "display_data"
    },
    {
     "name": "stderr",
     "output_type": "stream",
     "text": [
      "C:\\Users\\15264\\Anaconda3\\lib\\site-packages\\seaborn\\_decorators.py:36: FutureWarning: Pass the following variable as a keyword arg: x. From version 0.12, the only valid positional argument will be `data`, and passing other arguments without an explicit keyword will result in an error or misinterpretation.\n",
      "  warnings.warn(\n"
     ]
    },
    {
     "data": {
      "image/png": "[encoded data removed]",
      "text/plain": [
       "<Figure size 432x288 with 1 Axes>"
      ]
     },
     "metadata": {
      "needs_background": "light"
     },
     "output_type": "display_data"
    },
    {
     "name": "stderr",
     "output_type": "stream",
     "text": [
      "C:\\Users\\15264\\Anaconda3\\lib\\site-packages\\seaborn\\_decorators.py:36: FutureWarning: Pass the following variable as a keyword arg: x. From version 0.12, the only valid positional argument will be `data`, and passing other arguments without an explicit keyword will result in an error or misinterpretation.\n",
      "  warnings.warn(\n"
     ]
    },
    {
     "data": {
      "image/png": "[encoded data removed]",
      "text/plain": [
       "<Figure size 432x288 with 1 Axes>"
      ]
     },
     "metadata": {
      "needs_background": "light"
     },
     "output_type": "display_data"
    },
    {
     "name": "stderr",
     "output_type": "stream",
     "text": [
      "C:\\Users\\15264\\Anaconda3\\lib\\site-packages\\seaborn\\_decorators.py:36: FutureWarning: Pass the following variable as a keyword arg: x. From version 0.12, the only valid positional argument will be `data`, and passing other arguments without an explicit keyword will result in an error or misinterpretation.\n",
      "  warnings.warn(\n"
     ]
    },
    {
     "data": {
      "image/png": "[encoded data removed]",
      "text/plain": [
       "<Figure size 432x288 with 1 Axes>"
      ]
     },
     "metadata": {
      "needs_background": "light"
     },
     "output_type": "display_data"
    },
    {
     "name": "stderr",
     "output_type": "stream",
     "text": [
      "C:\\Users\\15264\\Anaconda3\\lib\\site-packages\\seaborn\\_decorators.py:36: FutureWarning: Pass the following variable as a keyword arg: x. From version 0.12, the only valid positional argument will be `data`, and passing other arguments without an explicit keyword will result in an error or misinterpretation.\n",
      "  warnings.warn(\n"
     ]
    },
    {
     "data": {
      "image/png": "[encoded data removed]",
      "text/plain": [
       "<Figure size 432x288 with 1 Axes>"
      ]
     },
     "metadata": {
      "needs_background": "light"
     },
     "output_type": "display_data"
    },
    {
     "name": "stderr",
     "output_type": "stream",
     "text": [
      "C:\\Users\\15264\\Anaconda3\\lib\\site-packages\\seaborn\\_decorators.py:36: FutureWarning: Pass the following variable as a keyword arg: x. From version 0.12, the only valid positional argument will be `data`, and passing other arguments without an explicit keyword will result in an error or misinterpretation.\n",
      "  warnings.warn(\n"
     ]
    },
    {
     "data": {
      "image/png": "[encoded data removed]",
      "text/plain": [
       "<Figure size 432x288 with 1 Axes>"
      ]
     },
     "metadata": {
      "needs_background": "light"
     },
     "output_type": "display_data"
    },
    {
     "name": "stderr",
     "output_type": "stream",
     "text": [
      "C:\\Users\\15264\\Anaconda3\\lib\\site-packages\\seaborn\\_decorators.py:36: FutureWarning: Pass the following variable as a keyword arg: x. From version 0.12, the only valid positional argument will be `data`, and passing other arguments without an explicit keyword will result in an error or misinterpretation.\n",
      "  warnings.warn(\n"
     ]
    },
    {
     "data": {
      "image/png": "[encoded data removed]",
      "text/plain": [
       "<Figure size 432x288 with 1 Axes>"
      ]
     },
     "metadata": {
      "needs_background": "light"
     },
     "output_type": "display_data"
    },
    {
     "name": "stderr",
     "output_type": "stream",
     "text": [
      "C:\\Users\\15264\\Anaconda3\\lib\\site-packages\\seaborn\\_decorators.py:36: FutureWarning: Pass the following variable as a keyword arg: x. From version 0.12, the only valid positional argument will be `data`, and passing other arguments without an explicit keyword will result in an error or misinterpretation.\n",
      "  warnings.warn(\n"
     ]
    },
    {
     "data": {
      "image/png": "[encoded data removed]",
      "text/plain": [
       "<Figure size 432x288 with 1 Axes>"
      ]
     },
     "metadata": {
      "needs_background": "light"
     },
     "output_type": "display_data"
    },
    {
     "name": "stderr",
     "output_type": "stream",
     "text": [
      "C:\\Users\\15264\\Anaconda3\\lib\\site-packages\\seaborn\\_decorators.py:36: FutureWarning: Pass the following variable as a keyword arg: x. From version 0.12, the only valid positional argument will be `data`, and passing other arguments without an explicit keyword will result in an error or misinterpretation.\n",
      "  warnings.warn(\n"
     ]
    },
    {
     "data": {
      "image/png": "[encoded data removed]",
      "text/plain": [
       "<Figure size 432x288 with 1 Axes>"
      ]
     },
     "metadata": {
      "needs_background": "light"
     },
     "output_type": "display_data"
    },
    {
     "name": "stderr",
     "output_type": "stream",
     "text": [
      "C:\\Users\\15264\\Anaconda3\\lib\\site-packages\\seaborn\\_decorators.py:36: FutureWarning: Pass the following variable as a keyword arg: x. From version 0.12, the only valid positional argument will be `data`, and passing other arguments without an explicit keyword will result in an error or misinterpretation.\n",
      "  warnings.warn(\n"
     ]
    },
    {
     "data": {
      "image/png": "[encoded data removed]",
      "text/plain": [
       "<Figure size 432x288 with 1 Axes>"
      ]
     },
     "metadata": {
      "needs_background": "light"
     },
     "output_type": "display_data"
    },
    {
     "name": "stderr",
     "output_type": "stream",
     "text": [
      "C:\\Users\\15264\\Anaconda3\\lib\\site-packages\\seaborn\\_decorators.py:36: FutureWarning: Pass the following variable as a keyword arg: x. From version 0.12, the only valid positional argument will be `data`, and passing other arguments without an explicit keyword will result in an error or misinterpretation.\n",
      "  warnings.warn(\n"
     ]
    },
    {
     "data": {
      "image/png": "[encoded data removed]",
      "text/plain": [
       "<Figure size 432x288 with 1 Axes>"
      ]
     },
     "metadata": {
      "needs_background": "light"
     },
     "output_type": "display_data"
    },
    {
     "name": "stderr",
     "output_type": "stream",
     "text": [
      "C:\\Users\\15264\\Anaconda3\\lib\\site-packages\\seaborn\\_decorators.py:36: FutureWarning: Pass the following variable as a keyword arg: x. From version 0.12, the only valid positional argument will be `data`, and passing other arguments without an explicit keyword will result in an error or misinterpretation.\n",
      "  warnings.warn(\n"
     ]
    },
    {
     "data": {
      "image/png": "[encoded data removed]",
      "text/plain": [
       "<Figure size 432x288 with 1 Axes>"
      ]
     },
     "metadata": {
      "needs_background": "light"
     },
     "output_type": "display_data"
    },
    {
     "name": "stderr",
     "output_type": "stream",
     "text": [
      "C:\\Users\\15264\\Anaconda3\\lib\\site-packages\\seaborn\\_decorators.py:36: FutureWarning: Pass the following variable as a keyword arg: x. From version 0.12, the only valid positional argument will be `data`, and passing other arguments without an explicit keyword will result in an error or misinterpretation.\n",
      "  warnings.warn(\n"
     ]
    },
    {
     "data": {
      "image/png": "[encoded data removed]",
      "text/plain": [
       "<Figure size 432x288 with 1 Axes>"
      ]
     },
     "metadata": {
      "needs_background": "light"
     },
     "output_type": "display_data"
    },
    {
     "name": "stderr",
     "output_type": "stream",
     "text": [
      "C:\\Users\\15264\\Anaconda3\\lib\\site-packages\\seaborn\\_decorators.py:36: FutureWarning: Pass the following variable as a keyword arg: x. From version 0.12, the only valid positional argument will be `data`, and passing other arguments without an explicit keyword will result in an error or misinterpretation.\n",
      "  warnings.warn(\n"
     ]
    },
    {
     "data": {
      "image/png": "[encoded data removed]",
      "text/plain": [
       "<Figure size 432x288 with 1 Axes>"
      ]
     },
     "metadata": {
      "needs_background": "light"
     },
     "output_type": "display_data"
    },
    {
     "name": "stderr",
     "output_type": "stream",
     "text": [
      "C:\\Users\\15264\\Anaconda3\\lib\\site-packages\\seaborn\\_decorators.py:36: FutureWarning: Pass the following variable as a keyword arg: x. From version 0.12, the only valid positional argument will be `data`, and passing other arguments without an explicit keyword will result in an error or misinterpretation.\n",
      "  warnings.warn(\n"
     ]
    },
    {
     "data": {
      "image/png": "[encoded data removed]",
      "text/plain": [
       "<Figure size 432x288 with 1 Axes>"
      ]
     },
     "metadata": {
      "needs_background": "light"
     },
     "output_type": "display_data"
    },
    {
     "name": "stderr",
     "output_type": "stream",
     "text": [
      "C:\\Users\\15264\\Anaconda3\\lib\\site-packages\\seaborn\\_decorators.py:36: FutureWarning: Pass the following variable as a keyword arg: x. From version 0.12, the only valid positional argument will be `data`, and passing other arguments without an explicit keyword will result in an error or misinterpretation.\n",
      "  warnings.warn(\n"
     ]
    },
    {
     "data": {
      "image/png": "[encoded data removed]",
      "text/plain": [
       "<Figure size 432x288 with 1 Axes>"
      ]
     },
     "metadata": {
      "needs_background": "light"
     },
     "output_type": "display_data"
    },
    {
     "name": "stderr",
     "output_type": "stream",
     "text": [
      "C:\\Users\\15264\\Anaconda3\\lib\\site-packages\\seaborn\\_decorators.py:36: FutureWarning: Pass the following variable as a keyword arg: x. From version 0.12, the only valid positional argument will be `data`, and passing other arguments without an explicit keyword will result in an error or misinterpretation.\n",
      "  warnings.warn(\n"
     ]
    },
    {
     "data": {
      "image/png": "[encoded data removed]",
      "text/plain": [
       "<Figure size 432x288 with 1 Axes>"
      ]
     },
     "metadata": {
      "needs_background": "light"
     },
     "output_type": "display_data"
    },
    {
     "name": "stderr",
     "output_type": "stream",
     "text": [
      "C:\\Users\\15264\\Anaconda3\\lib\\site-packages\\seaborn\\_decorators.py:36: FutureWarning: Pass the following variable as a keyword arg: x. From version 0.12, the only valid positional argument will be `data`, and passing other arguments without an explicit keyword will result in an error or misinterpretation.\n",
      "  warnings.warn(\n"
     ]
    },
    {
     "data": {
      "image/png": "[encoded data removed]",
      "text/plain": [
       "<Figure size 432x288 with 1 Axes>"
      ]
     },
     "metadata": {
      "needs_background": "light"
     },
     "output_type": "display_data"
    },
    {
     "name": "stderr",
     "output_type": "stream",
     "text": [
      "C:\\Users\\15264\\Anaconda3\\lib\\site-packages\\seaborn\\_decorators.py:36: FutureWarning: Pass the following variable as a keyword arg: x. From version 0.12, the only valid positional argument will be `data`, and passing other arguments without an explicit keyword will result in an error or misinterpretation.\n",
      "  warnings.warn(\n"
     ]
    },
    {
     "data": {
      "image/png": "[encoded data removed]",
      "text/plain": [
       "<Figure size 432x288 with 1 Axes>"
      ]
     },
     "metadata": {
      "needs_background": "light"
     },
     "output_type": "display_data"
    },
    {
     "name": "stderr",
     "output_type": "stream",
     "text": [
      "C:\\Users\\15264\\Anaconda3\\lib\\site-packages\\seaborn\\_decorators.py:36: FutureWarning: Pass the following variable as a keyword arg: x. From version 0.12, the only valid positional argument will be `data`, and passing other arguments without an explicit keyword will result in an error or misinterpretation.\n",
      "  warnings.warn(\n"
     ]
    },
    {
     "data": {
      "image/png": "[encoded data removed]",
      "text/plain": [
       "<Figure size 432x288 with 1 Axes>"
      ]
     },
     "metadata": {
      "needs_background": "light"
     },
     "output_type": "display_data"
    },
    {
     "name": "stderr",
     "output_type": "stream",
     "text": [
      "C:\\Users\\15264\\Anaconda3\\lib\\site-packages\\seaborn\\_decorators.py:36: FutureWarning: Pass the following variable as a keyword arg: x. From version 0.12, the only valid positional argument will be `data`, and passing other arguments without an explicit keyword will result in an error or misinterpretation.\n",
      "  warnings.warn(\n"
     ]
    },
    {
     "data": {
      "image/png": "[encoded data removed]",
      "text/plain": [
       "<Figure size 432x288 with 1 Axes>"
      ]
     },
     "metadata": {
      "needs_background": "light"
     },
     "output_type": "display_data"
    }
   ],
   "source": [
    "for column in df_outlier_removed.loc[:,]:\n",
    "    sns.boxplot(df_outlier_removed[column])\n",
    "    plt.show()"
   ]
  },
  {
   "cell_type": "code",
   "execution_count": 52,
   "id": "cda2475d",
   "metadata": {},
   "outputs": [
    {
     "data": {
      "image/png": "[encoded data removed]",
      "text/plain": [
       "<Figure size 432x288 with 1 Axes>"
      ]
     },
     "metadata": {
      "needs_background": "light"
     },
     "output_type": "display_data"
    },
    {
     "data": {
      "image/png": "[encoded data removed]",
      "text/plain": [
       "<Figure size 432x288 with 1 Axes>"
      ]
     },
     "metadata": {
      "needs_background": "light"
     },
     "output_type": "display_data"
    },
    {
     "data": {
      "image/png": "[encoded data removed]",
      "text/plain": [
       "<Figure size 432x288 with 1 Axes>"
      ]
     },
     "metadata": {
      "needs_background": "light"
     },
     "output_type": "display_data"
    },
    {
     "data": {
      "image/png": "[encoded data removed]",
      "text/plain": [
       "<Figure size 432x288 with 1 Axes>"
      ]
     },
     "metadata": {
      "needs_background": "light"
     },
     "output_type": "display_data"
    },
    {
     "data": {
      "image/png": "[encoded data removed]",
      "text/plain": [
       "<Figure size 432x288 with 1 Axes>"
      ]
     },
     "metadata": {
      "needs_background": "light"
     },
     "output_type": "display_data"
    },
    {
     "data": {
      "image/png": "[encoded data removed]",
      "text/plain": [
       "<Figure size 432x288 with 1 Axes>"
      ]
     },
     "metadata": {
      "needs_background": "light"
     },
     "output_type": "display_data"
    },
    {
     "data": {
      "image/png": "[encoded data removed]",
      "text/plain": [
       "<Figure size 432x288 with 1 Axes>"
      ]
     },
     "metadata": {
      "needs_background": "light"
     },
     "output_type": "display_data"
    },
    {
     "data": {
      "image/png": "[encoded data removed]",
      "text/plain": [
       "<Figure size 432x288 with 1 Axes>"
      ]
     },
     "metadata": {
      "needs_background": "light"
     },
     "output_type": "display_data"
    },
    {
     "data": {
      "image/png": "[encoded data removed]",
      "text/plain": [
       "<Figure size 432x288 with 1 Axes>"
      ]
     },
     "metadata": {
      "needs_background": "light"
     },
     "output_type": "display_data"
    },
    {
     "data": {
      "image/png": "[encoded data removed]",
      "text/plain": [
       "<Figure size 432x288 with 1 Axes>"
      ]
     },
     "metadata": {
      "needs_background": "light"
     },
     "output_type": "display_data"
    },
    {
     "data": {
      "image/png": "[encoded data removed]",
      "text/plain": [
       "<Figure size 432x288 with 1 Axes>"
      ]
     },
     "metadata": {
      "needs_background": "light"
     },
     "output_type": "display_data"
    },
    {
     "data": {
      "image/png": "[encoded data removed]",
      "text/plain": [
       "<Figure size 432x288 with 1 Axes>"
      ]
     },
     "metadata": {
      "needs_background": "light"
     },
     "output_type": "display_data"
    },
    {
     "data": {
      "image/png": "[encoded data removed]",
      "text/plain": [
       "<Figure size 432x288 with 1 Axes>"
      ]
     },
     "metadata": {
      "needs_background": "light"
     },
     "output_type": "display_data"
    },
    {
     "data": {
      "image/png": "[encoded data removed]",
      "text/plain": [
       "<Figure size 432x288 with 1 Axes>"
      ]
     },
     "metadata": {
      "needs_background": "light"
     },
     "output_type": "display_data"
    },
    {
     "data": {
      "image/png": "[encoded data removed]",
      "text/plain": [
       "<Figure size 432x288 with 1 Axes>"
      ]
     },
     "metadata": {
      "needs_background": "light"
     },
     "output_type": "display_data"
    },
    {
     "data": {
      "image/png": "[encoded data removed]",
      "text/plain": [
       "<Figure size 432x288 with 1 Axes>"
      ]
     },
     "metadata": {
      "needs_background": "light"
     },
     "output_type": "display_data"
    },
    {
     "data": {
      "image/png": "[encoded data removed]",
      "text/plain": [
       "<Figure size 432x288 with 1 Axes>"
      ]
     },
     "metadata": {
      "needs_background": "light"
     },
     "output_type": "display_data"
    },
    {
     "data": {
      "image/png": "[encoded data removed]",
      "text/plain": [
       "<Figure size 432x288 with 1 Axes>"
      ]
     },
     "metadata": {
      "needs_background": "light"
     },
     "output_type": "display_data"
    },
    {
     "data": {
      "image/png": "[encoded data removed]",
      "text/plain": [
       "<Figure size 432x288 with 1 Axes>"
      ]
     },
     "metadata": {
      "needs_background": "light"
     },
     "output_type": "display_data"
    },
    {
     "data": {
      "image/png": "[encoded data removed]",
      "text/plain": [
       "<Figure size 432x288 with 1 Axes>"
      ]
     },
     "metadata": {
      "needs_background": "light"
     },
     "output_type": "display_data"
    },
    {
     "data": {
      "image/png": "[encoded data removed]",
      "text/plain": [
       "<Figure size 432x288 with 1 Axes>"
      ]
     },
     "metadata": {
      "needs_background": "light"
     },
     "output_type": "display_data"
    },
    {
     "data": {
      "image/png": "[encoded data removed]",
      "text/plain": [
       "<Figure size 432x288 with 1 Axes>"
      ]
     },
     "metadata": {
      "needs_background": "light"
     },
     "output_type": "display_data"
    }
   ],
   "source": [
    "for column in df_outlier_removed.columns:\n",
    "    plt.hist(df_outlier_removed[column])\n",
    "    plt.title(column)\n",
    "    plt.show()"
   ]
  },
  {
   "cell_type": "code",
   "execution_count": 54,
   "id": "2cadce88",
   "metadata": {},
   "outputs": [
    {
     "name": "stdout",
     "output_type": "stream",
     "text": [
      "status\n",
      "0     48\n",
      "1    147\n",
      "Name: name, dtype: int64\n"
     ]
    },
    {
     "data": {
      "text/plain": [
       "<matplotlib.legend.Legend at 0x16bfb17cfa0>"
      ]
     },
     "execution_count": 54,
     "metadata": {},
     "output_type": "execute_result"
    },
    {
     "data": {
      "image/png": "[encoded data removed]",
      "text/plain": [
       "<Figure size 432x288 with 1 Axes>"
      ]
     },
     "metadata": {},
     "output_type": "display_data"
    }
   ],
   "source": [
    "no_of_species=data.groupby('status')['name'].nunique()\n",
    "print(no_of_species)\n",
    "plt.pie(no_of_species,labels=[0,1])\n",
    "plt.legend()"
   ]
  },
  {
   "cell_type": "code",
   "execution_count": 15,
   "id": "965bb0e1",
   "metadata": {},
   "outputs": [
    {
     "data": {
      "text/html": [
       "<div>\n",
       "<style scoped>\n",
       "    .dataframe tbody tr th:only-of-type {\n",
       "        vertical-align: middle;\n",
       "    }\n",
       "\n",
       "    .dataframe tbody tr th {\n",
       "        vertical-align: top;\n",
       "    }\n",
       "\n",
       "    .dataframe thead th {\n",
       "        text-align: right;\n",
       "    }\n",
       "</style>\n",
       "<table border=\"1\" class=\"dataframe\">\n",
       "  <thead>\n",
       "    <tr style=\"text-align: right;\">\n",
       "      <th></th>\n",
       "      <th>MDVP:Fo(Hz)</th>\n",
       "      <th>MDVP:Fhi(Hz)</th>\n",
       "      <th>MDVP:Flo(Hz)</th>\n",
       "      <th>MDVP:Jitter(%)</th>\n",
       "      <th>MDVP:Jitter(Abs)</th>\n",
       "      <th>MDVP:RAP</th>\n",
       "      <th>MDVP:PPQ</th>\n",
       "      <th>Jitter:DDP</th>\n",
       "      <th>MDVP:Shimmer</th>\n",
       "      <th>MDVP:Shimmer(dB)</th>\n",
       "      <th>...</th>\n",
       "      <th>MDVP:APQ</th>\n",
       "      <th>Shimmer:DDA</th>\n",
       "      <th>NHR</th>\n",
       "      <th>HNR</th>\n",
       "      <th>RPDE</th>\n",
       "      <th>DFA</th>\n",
       "      <th>spread1</th>\n",
       "      <th>spread2</th>\n",
       "      <th>D2</th>\n",
       "      <th>PPE</th>\n",
       "    </tr>\n",
       "  </thead>\n",
       "  <tbody>\n",
       "    <tr>\n",
       "      <th>MDVP:Fo(Hz)</th>\n",
       "      <td>1713.137460</td>\n",
       "      <td>1611.941418</td>\n",
       "      <td>1042.830488</td>\n",
       "      <td>-2.679100e-02</td>\n",
       "      <td>-5.248300e-04</td>\n",
       "      <td>-1.056192e-02</td>\n",
       "      <td>-1.663552e-02</td>\n",
       "      <td>-3.169261e-02</td>\n",
       "      <td>-8.673973e-02</td>\n",
       "      <td>-0.840792</td>\n",
       "      <td>...</td>\n",
       "      <td>-8.644976e-02</td>\n",
       "      <td>-1.239489e-01</td>\n",
       "      <td>-2.957384e-02</td>\n",
       "      <td>11.208068</td>\n",
       "      <td>-1.651571</td>\n",
       "      <td>-1.021528e+00</td>\n",
       "      <td>-18.790651</td>\n",
       "      <td>-8.597735e-01</td>\n",
       "      <td>2.789880</td>\n",
       "      <td>-1.416863</td>\n",
       "    </tr>\n",
       "    <tr>\n",
       "      <th>MDVP:Fhi(Hz)</th>\n",
       "      <td>1611.941418</td>\n",
       "      <td>3910.639496</td>\n",
       "      <td>490.987983</td>\n",
       "      <td>-4.099162e-03</td>\n",
       "      <td>-3.586316e-04</td>\n",
       "      <td>-2.483081e-03</td>\n",
       "      <td>-5.959606e-03</td>\n",
       "      <td>-7.478470e-03</td>\n",
       "      <td>-7.008023e-02</td>\n",
       "      <td>-0.468590</td>\n",
       "      <td>...</td>\n",
       "      <td>-5.844125e-02</td>\n",
       "      <td>-1.265228e-01</td>\n",
       "      <td>1.394460e-01</td>\n",
       "      <td>-5.494450</td>\n",
       "      <td>-1.119196</td>\n",
       "      <td>-1.520175e+00</td>\n",
       "      <td>-10.995384</td>\n",
       "      <td>-2.090581e-01</td>\n",
       "      <td>5.320633</td>\n",
       "      <td>-0.842593</td>\n",
       "    </tr>\n",
       "    <tr>\n",
       "      <th>MDVP:Flo(Hz)</th>\n",
       "      <td>1042.830488</td>\n",
       "      <td>490.987983</td>\n",
       "      <td>1816.490619</td>\n",
       "      <td>-3.543147e-02</td>\n",
       "      <td>-3.967109e-04</td>\n",
       "      <td>-1.653844e-02</td>\n",
       "      <td>-1.731687e-02</td>\n",
       "      <td>-4.960396e-02</td>\n",
       "      <td>-1.311232e-01</td>\n",
       "      <td>-1.331428</td>\n",
       "      <td>...</td>\n",
       "      <td>-1.213249e-01</td>\n",
       "      <td>-2.017256e-01</td>\n",
       "      <td>-1.867344e-01</td>\n",
       "      <td>41.020984</td>\n",
       "      <td>-1.795640</td>\n",
       "      <td>-9.309547e-02</td>\n",
       "      <td>-18.382763</td>\n",
       "      <td>-8.611537e-01</td>\n",
       "      <td>-1.629190</td>\n",
       "      <td>-1.331286</td>\n",
       "    </tr>\n",
       "    <tr>\n",
       "      <th>MDVP:Jitter(%)</th>\n",
       "      <td>-0.026791</td>\n",
       "      <td>-0.004099</td>\n",
       "      <td>-0.035431</td>\n",
       "      <td>9.244801e-06</td>\n",
       "      <td>7.779816e-08</td>\n",
       "      <td>5.061620e-06</td>\n",
       "      <td>4.942366e-06</td>\n",
       "      <td>1.517836e-05</td>\n",
       "      <td>3.587677e-05</td>\n",
       "      <td>0.000353</td>\n",
       "      <td>...</td>\n",
       "      <td>2.716150e-05</td>\n",
       "      <td>5.714410e-05</td>\n",
       "      <td>3.890404e-05</td>\n",
       "      <td>-0.009772</td>\n",
       "      <td>0.000127</td>\n",
       "      <td>3.199563e-05</td>\n",
       "      <td>0.002456</td>\n",
       "      <td>1.051662e-04</td>\n",
       "      <td>0.000503</td>\n",
       "      <td>0.000203</td>\n",
       "    </tr>\n",
       "    <tr>\n",
       "      <th>MDVP:Jitter(Abs)</th>\n",
       "      <td>-0.000525</td>\n",
       "      <td>-0.000359</td>\n",
       "      <td>-0.000397</td>\n",
       "      <td>7.779816e-08</td>\n",
       "      <td>7.547604e-10</td>\n",
       "      <td>4.187731e-08</td>\n",
       "      <td>4.260524e-08</td>\n",
       "      <td>1.255791e-07</td>\n",
       "      <td>3.027890e-07</td>\n",
       "      <td>0.000003</td>\n",
       "      <td>...</td>\n",
       "      <td>2.299887e-07</td>\n",
       "      <td>4.824230e-07</td>\n",
       "      <td>3.029761e-07</td>\n",
       "      <td>-0.000078</td>\n",
       "      <td>0.000001</td>\n",
       "      <td>4.246039e-07</td>\n",
       "      <td>0.000023</td>\n",
       "      <td>9.998827e-07</td>\n",
       "      <td>0.000003</td>\n",
       "      <td>0.000002</td>\n",
       "    </tr>\n",
       "    <tr>\n",
       "      <th>MDVP:RAP</th>\n",
       "      <td>-0.010562</td>\n",
       "      <td>-0.002483</td>\n",
       "      <td>-0.016538</td>\n",
       "      <td>5.061620e-06</td>\n",
       "      <td>4.187731e-08</td>\n",
       "      <td>2.892958e-06</td>\n",
       "      <td>2.704279e-06</td>\n",
       "      <td>8.675079e-06</td>\n",
       "      <td>1.994718e-05</td>\n",
       "      <td>0.000195</td>\n",
       "      <td>...</td>\n",
       "      <td>1.480948e-05</td>\n",
       "      <td>3.217197e-05</td>\n",
       "      <td>2.185520e-05</td>\n",
       "      <td>-0.005525</td>\n",
       "      <td>0.000067</td>\n",
       "      <td>1.546247e-05</td>\n",
       "      <td>0.001280</td>\n",
       "      <td>4.717478e-05</td>\n",
       "      <td>0.000281</td>\n",
       "      <td>0.000105</td>\n",
       "    </tr>\n",
       "    <tr>\n",
       "      <th>MDVP:PPQ</th>\n",
       "      <td>-0.016636</td>\n",
       "      <td>-0.005960</td>\n",
       "      <td>-0.017317</td>\n",
       "      <td>4.942366e-06</td>\n",
       "      <td>4.260524e-08</td>\n",
       "      <td>2.704279e-06</td>\n",
       "      <td>2.818392e-06</td>\n",
       "      <td>8.109266e-06</td>\n",
       "      <td>2.061334e-05</td>\n",
       "      <td>0.000203</td>\n",
       "      <td>...</td>\n",
       "      <td>1.550510e-05</td>\n",
       "      <td>3.268205e-05</td>\n",
       "      <td>1.964094e-05</td>\n",
       "      <td>-0.005403</td>\n",
       "      <td>0.000068</td>\n",
       "      <td>2.707756e-05</td>\n",
       "      <td>0.001407</td>\n",
       "      <td>5.933482e-05</td>\n",
       "      <td>0.000251</td>\n",
       "      <td>0.000119</td>\n",
       "    </tr>\n",
       "    <tr>\n",
       "      <th>Jitter:DDP</th>\n",
       "      <td>-0.031693</td>\n",
       "      <td>-0.007478</td>\n",
       "      <td>-0.049604</td>\n",
       "      <td>1.517836e-05</td>\n",
       "      <td>1.255791e-07</td>\n",
       "      <td>8.675079e-06</td>\n",
       "      <td>8.109266e-06</td>\n",
       "      <td>2.601392e-05</td>\n",
       "      <td>5.981256e-05</td>\n",
       "      <td>0.000586</td>\n",
       "      <td>...</td>\n",
       "      <td>4.440721e-05</td>\n",
       "      <td>9.647047e-05</td>\n",
       "      <td>6.552929e-05</td>\n",
       "      <td>-0.016568</td>\n",
       "      <td>0.000202</td>\n",
       "      <td>4.637151e-05</td>\n",
       "      <td>0.003840</td>\n",
       "      <td>1.414470e-04</td>\n",
       "      <td>0.000842</td>\n",
       "      <td>0.000314</td>\n",
       "    </tr>\n",
       "    <tr>\n",
       "      <th>MDVP:Shimmer</th>\n",
       "      <td>-0.086740</td>\n",
       "      <td>-0.070080</td>\n",
       "      <td>-0.131123</td>\n",
       "      <td>3.587677e-05</td>\n",
       "      <td>3.027890e-07</td>\n",
       "      <td>1.994718e-05</td>\n",
       "      <td>2.061334e-05</td>\n",
       "      <td>5.981256e-05</td>\n",
       "      <td>2.780318e-04</td>\n",
       "      <td>0.002634</td>\n",
       "      <td>...</td>\n",
       "      <td>2.105737e-04</td>\n",
       "      <td>4.525124e-04</td>\n",
       "      <td>1.970236e-04</td>\n",
       "      <td>-0.060611</td>\n",
       "      <td>0.000802</td>\n",
       "      <td>1.624122e-04</td>\n",
       "      <td>0.011610</td>\n",
       "      <td>6.188285e-04</td>\n",
       "      <td>0.003221</td>\n",
       "      <td>0.000977</td>\n",
       "    </tr>\n",
       "    <tr>\n",
       "      <th>MDVP:Shimmer(dB)</th>\n",
       "      <td>-0.840792</td>\n",
       "      <td>-0.468590</td>\n",
       "      <td>-1.331428</td>\n",
       "      <td>3.534286e-04</td>\n",
       "      <td>2.977424e-06</td>\n",
       "      <td>1.954964e-04</td>\n",
       "      <td>2.026598e-04</td>\n",
       "      <td>5.861936e-04</td>\n",
       "      <td>2.634067e-03</td>\n",
       "      <td>0.025359</td>\n",
       "      <td>...</td>\n",
       "      <td>2.005305e-03</td>\n",
       "      <td>4.261868e-03</td>\n",
       "      <td>1.920614e-03</td>\n",
       "      <td>-0.578309</td>\n",
       "      <td>0.007357</td>\n",
       "      <td>1.567149e-03</td>\n",
       "      <td>0.111217</td>\n",
       "      <td>5.948722e-03</td>\n",
       "      <td>0.030881</td>\n",
       "      <td>0.009387</td>\n",
       "    </tr>\n",
       "    <tr>\n",
       "      <th>Shimmer:APQ3</th>\n",
       "      <td>-0.041312</td>\n",
       "      <td>-0.042173</td>\n",
       "      <td>-0.067248</td>\n",
       "      <td>1.904835e-05</td>\n",
       "      <td>1.608083e-07</td>\n",
       "      <td>1.072426e-05</td>\n",
       "      <td>1.089410e-05</td>\n",
       "      <td>3.215765e-05</td>\n",
       "      <td>1.508396e-04</td>\n",
       "      <td>0.001421</td>\n",
       "      <td>...</td>\n",
       "      <td>1.110669e-04</td>\n",
       "      <td>2.506283e-04</td>\n",
       "      <td>1.046857e-04</td>\n",
       "      <td>-0.032932</td>\n",
       "      <td>0.000422</td>\n",
       "      <td>9.159611e-05</td>\n",
       "      <td>0.005969</td>\n",
       "      <td>3.080303e-04</td>\n",
       "      <td>0.001646</td>\n",
       "      <td>0.000501</td>\n",
       "    </tr>\n",
       "    <tr>\n",
       "      <th>Shimmer:APQ5</th>\n",
       "      <td>-0.044483</td>\n",
       "      <td>-0.039101</td>\n",
       "      <td>-0.067028</td>\n",
       "      <td>2.135104e-05</td>\n",
       "      <td>1.793660e-07</td>\n",
       "      <td>1.183148e-05</td>\n",
       "      <td>1.280747e-05</td>\n",
       "      <td>3.547819e-05</td>\n",
       "      <td>1.706679e-04</td>\n",
       "      <td>0.001620</td>\n",
       "      <td>...</td>\n",
       "      <td>1.294528e-04</td>\n",
       "      <td>2.762740e-04</td>\n",
       "      <td>1.151624e-04</td>\n",
       "      <td>-0.037124</td>\n",
       "      <td>0.000456</td>\n",
       "      <td>1.234137e-04</td>\n",
       "      <td>0.007110</td>\n",
       "      <td>3.826168e-04</td>\n",
       "      <td>0.001974</td>\n",
       "      <td>0.000614</td>\n",
       "    </tr>\n",
       "    <tr>\n",
       "      <th>MDVP:APQ</th>\n",
       "      <td>-0.086450</td>\n",
       "      <td>-0.058441</td>\n",
       "      <td>-0.121325</td>\n",
       "      <td>2.716150e-05</td>\n",
       "      <td>2.299887e-07</td>\n",
       "      <td>1.480948e-05</td>\n",
       "      <td>1.550510e-05</td>\n",
       "      <td>4.440721e-05</td>\n",
       "      <td>2.105737e-04</td>\n",
       "      <td>0.002005</td>\n",
       "      <td>...</td>\n",
       "      <td>1.695574e-04</td>\n",
       "      <td>3.331964e-04</td>\n",
       "      <td>1.527682e-04</td>\n",
       "      <td>-0.046841</td>\n",
       "      <td>0.000700</td>\n",
       "      <td>1.018215e-04</td>\n",
       "      <td>0.009521</td>\n",
       "      <td>5.303022e-04</td>\n",
       "      <td>0.002651</td>\n",
       "      <td>0.000803</td>\n",
       "    </tr>\n",
       "    <tr>\n",
       "      <th>Shimmer:DDA</th>\n",
       "      <td>-0.123949</td>\n",
       "      <td>-0.126523</td>\n",
       "      <td>-0.201726</td>\n",
       "      <td>5.714410e-05</td>\n",
       "      <td>4.824230e-07</td>\n",
       "      <td>3.217197e-05</td>\n",
       "      <td>3.268205e-05</td>\n",
       "      <td>9.647047e-05</td>\n",
       "      <td>4.525124e-04</td>\n",
       "      <td>0.004262</td>\n",
       "      <td>...</td>\n",
       "      <td>3.331964e-04</td>\n",
       "      <td>7.518740e-04</td>\n",
       "      <td>3.140482e-04</td>\n",
       "      <td>-0.098796</td>\n",
       "      <td>0.001266</td>\n",
       "      <td>2.747990e-04</td>\n",
       "      <td>0.017906</td>\n",
       "      <td>9.240238e-04</td>\n",
       "      <td>0.004938</td>\n",
       "      <td>0.001504</td>\n",
       "    </tr>\n",
       "    <tr>\n",
       "      <th>NHR</th>\n",
       "      <td>-0.029574</td>\n",
       "      <td>0.139446</td>\n",
       "      <td>-0.186734</td>\n",
       "      <td>3.890404e-05</td>\n",
       "      <td>3.029761e-07</td>\n",
       "      <td>2.185520e-05</td>\n",
       "      <td>1.964094e-05</td>\n",
       "      <td>6.552929e-05</td>\n",
       "      <td>1.970236e-04</td>\n",
       "      <td>0.001921</td>\n",
       "      <td>...</td>\n",
       "      <td>1.527682e-04</td>\n",
       "      <td>3.140482e-04</td>\n",
       "      <td>2.690774e-04</td>\n",
       "      <td>-0.058703</td>\n",
       "      <td>0.000862</td>\n",
       "      <td>-1.335495e-04</td>\n",
       "      <td>0.010708</td>\n",
       "      <td>5.670737e-04</td>\n",
       "      <td>0.003829</td>\n",
       "      <td>0.000815</td>\n",
       "    </tr>\n",
       "    <tr>\n",
       "      <th>HNR</th>\n",
       "      <td>11.208068</td>\n",
       "      <td>-5.494450</td>\n",
       "      <td>41.020984</td>\n",
       "      <td>-9.772024e-03</td>\n",
       "      <td>-7.824110e-05</td>\n",
       "      <td>-5.525271e-03</td>\n",
       "      <td>-5.402927e-03</td>\n",
       "      <td>-1.656841e-02</td>\n",
       "      <td>-6.061063e-02</td>\n",
       "      <td>-0.578309</td>\n",
       "      <td>...</td>\n",
       "      <td>-4.684119e-02</td>\n",
       "      <td>-9.879604e-02</td>\n",
       "      <td>-5.870269e-02</td>\n",
       "      <td>19.030706</td>\n",
       "      <td>-0.272397</td>\n",
       "      <td>-1.923162e-03</td>\n",
       "      <td>-3.150229</td>\n",
       "      <td>-1.552012e-01</td>\n",
       "      <td>-0.991451</td>\n",
       "      <td>-0.260305</td>\n",
       "    </tr>\n",
       "    <tr>\n",
       "      <th>RPDE</th>\n",
       "      <td>-1.651571</td>\n",
       "      <td>-1.119196</td>\n",
       "      <td>-1.795640</td>\n",
       "      <td>1.272506e-04</td>\n",
       "      <td>1.346965e-06</td>\n",
       "      <td>6.739836e-05</td>\n",
       "      <td>6.804697e-05</td>\n",
       "      <td>2.020760e-04</td>\n",
       "      <td>8.020475e-04</td>\n",
       "      <td>0.007357</td>\n",
       "      <td>...</td>\n",
       "      <td>6.999333e-04</td>\n",
       "      <td>1.265927e-03</td>\n",
       "      <td>8.623323e-04</td>\n",
       "      <td>-0.272397</td>\n",
       "      <td>0.010804</td>\n",
       "      <td>-6.381510e-04</td>\n",
       "      <td>0.066591</td>\n",
       "      <td>4.140607e-03</td>\n",
       "      <td>0.009318</td>\n",
       "      <td>0.005012</td>\n",
       "    </tr>\n",
       "    <tr>\n",
       "      <th>DFA</th>\n",
       "      <td>-1.021528</td>\n",
       "      <td>-1.520175</td>\n",
       "      <td>-0.093095</td>\n",
       "      <td>3.199563e-05</td>\n",
       "      <td>4.246039e-07</td>\n",
       "      <td>1.546247e-05</td>\n",
       "      <td>2.707756e-05</td>\n",
       "      <td>4.637151e-05</td>\n",
       "      <td>1.624122e-04</td>\n",
       "      <td>0.001567</td>\n",
       "      <td>...</td>\n",
       "      <td>1.018215e-04</td>\n",
       "      <td>2.747990e-04</td>\n",
       "      <td>-1.335495e-04</td>\n",
       "      <td>-0.001923</td>\n",
       "      <td>-0.000638</td>\n",
       "      <td>3.062054e-03</td>\n",
       "      <td>0.011662</td>\n",
       "      <td>7.630559e-04</td>\n",
       "      <td>-0.003536</td>\n",
       "      <td>0.001315</td>\n",
       "    </tr>\n",
       "    <tr>\n",
       "      <th>spread1</th>\n",
       "      <td>-18.790651</td>\n",
       "      <td>-10.995384</td>\n",
       "      <td>-18.382763</td>\n",
       "      <td>2.456267e-03</td>\n",
       "      <td>2.340242e-05</td>\n",
       "      <td>1.280349e-03</td>\n",
       "      <td>1.407171e-03</td>\n",
       "      <td>3.839862e-03</td>\n",
       "      <td>1.160951e-02</td>\n",
       "      <td>0.111217</td>\n",
       "      <td>...</td>\n",
       "      <td>9.521427e-03</td>\n",
       "      <td>1.790619e-02</td>\n",
       "      <td>1.070768e-02</td>\n",
       "      <td>-3.150229</td>\n",
       "      <td>0.066591</td>\n",
       "      <td>1.166212e-02</td>\n",
       "      <td>1.169428</td>\n",
       "      <td>5.835983e-02</td>\n",
       "      <td>0.202812</td>\n",
       "      <td>0.091058</td>\n",
       "    </tr>\n",
       "    <tr>\n",
       "      <th>spread2</th>\n",
       "      <td>-0.859774</td>\n",
       "      <td>-0.209058</td>\n",
       "      <td>-0.861154</td>\n",
       "      <td>1.051662e-04</td>\n",
       "      <td>9.998827e-07</td>\n",
       "      <td>4.717478e-05</td>\n",
       "      <td>5.933482e-05</td>\n",
       "      <td>1.414470e-04</td>\n",
       "      <td>6.188285e-04</td>\n",
       "      <td>0.005949</td>\n",
       "      <td>...</td>\n",
       "      <td>5.303022e-04</td>\n",
       "      <td>9.240238e-04</td>\n",
       "      <td>5.670737e-04</td>\n",
       "      <td>-0.155201</td>\n",
       "      <td>0.004141</td>\n",
       "      <td>7.630559e-04</td>\n",
       "      <td>0.058360</td>\n",
       "      <td>6.901533e-03</td>\n",
       "      <td>0.016475</td>\n",
       "      <td>0.004649</td>\n",
       "    </tr>\n",
       "    <tr>\n",
       "      <th>D2</th>\n",
       "      <td>2.789880</td>\n",
       "      <td>5.320633</td>\n",
       "      <td>-1.629190</td>\n",
       "      <td>5.034071e-04</td>\n",
       "      <td>3.189300e-06</td>\n",
       "      <td>2.806958e-04</td>\n",
       "      <td>2.514762e-04</td>\n",
       "      <td>8.416405e-04</td>\n",
       "      <td>3.220573e-03</td>\n",
       "      <td>0.030881</td>\n",
       "      <td>...</td>\n",
       "      <td>2.650923e-03</td>\n",
       "      <td>4.937681e-03</td>\n",
       "      <td>3.829377e-03</td>\n",
       "      <td>-0.991451</td>\n",
       "      <td>0.009318</td>\n",
       "      <td>-3.535517e-03</td>\n",
       "      <td>0.202812</td>\n",
       "      <td>1.647476e-02</td>\n",
       "      <td>0.143763</td>\n",
       "      <td>0.015739</td>\n",
       "    </tr>\n",
       "    <tr>\n",
       "      <th>PPE</th>\n",
       "      <td>-1.416863</td>\n",
       "      <td>-0.842593</td>\n",
       "      <td>-1.331286</td>\n",
       "      <td>2.025499e-04</td>\n",
       "      <td>1.912496e-06</td>\n",
       "      <td>1.047083e-04</td>\n",
       "      <td>1.190558e-04</td>\n",
       "      <td>3.140285e-04</td>\n",
       "      <td>9.767828e-04</td>\n",
       "      <td>0.009387</td>\n",
       "      <td>...</td>\n",
       "      <td>8.025752e-04</td>\n",
       "      <td>1.504103e-03</td>\n",
       "      <td>8.148272e-04</td>\n",
       "      <td>-0.260305</td>\n",
       "      <td>0.005012</td>\n",
       "      <td>1.314945e-03</td>\n",
       "      <td>0.091058</td>\n",
       "      <td>4.648666e-03</td>\n",
       "      <td>0.015739</td>\n",
       "      <td>0.007640</td>\n",
       "    </tr>\n",
       "  </tbody>\n",
       "</table>\n",
       "<p>22 rows × 22 columns</p>\n",
       "</div>"
      ],
      "text/plain": [
       "                  MDVP:Fo(Hz)  MDVP:Fhi(Hz)  MDVP:Flo(Hz)  MDVP:Jitter(%)  \\\n",
       "MDVP:Fo(Hz)       1713.137460   1611.941418   1042.830488   -2.679100e-02   \n",
       "MDVP:Fhi(Hz)      1611.941418   3910.639496    490.987983   -4.099162e-03   \n",
       "MDVP:Flo(Hz)      1042.830488    490.987983   1816.490619   -3.543147e-02   \n",
       "MDVP:Jitter(%)      -0.026791     -0.004099     -0.035431    9.244801e-06   \n",
       "MDVP:Jitter(Abs)    -0.000525     -0.000359     -0.000397    7.779816e-08   \n",
       "MDVP:RAP            -0.010562     -0.002483     -0.016538    5.061620e-06   \n",
       "MDVP:PPQ            -0.016636     -0.005960     -0.017317    4.942366e-06   \n",
       "Jitter:DDP          -0.031693     -0.007478     -0.049604    1.517836e-05   \n",
       "MDVP:Shimmer        -0.086740     -0.070080     -0.131123    3.587677e-05   \n",
       "MDVP:Shimmer(dB)    -0.840792     -0.468590     -1.331428    3.534286e-04   \n",
       "Shimmer:APQ3        -0.041312     -0.042173     -0.067248    1.904835e-05   \n",
       "Shimmer:APQ5        -0.044483     -0.039101     -0.067028    2.135104e-05   \n",
       "MDVP:APQ            -0.086450     -0.058441     -0.121325    2.716150e-05   \n",
       "Shimmer:DDA         -0.123949     -0.126523     -0.201726    5.714410e-05   \n",
       "NHR                 -0.029574      0.139446     -0.186734    3.890404e-05   \n",
       "HNR                 11.208068     -5.494450     41.020984   -9.772024e-03   \n",
       "RPDE                -1.651571     -1.119196     -1.795640    1.272506e-04   \n",
       "DFA                 -1.021528     -1.520175     -0.093095    3.199563e-05   \n",
       "spread1            -18.790651    -10.995384    -18.382763    2.456267e-03   \n",
       "spread2             -0.859774     -0.209058     -0.861154    1.051662e-04   \n",
       "D2                   2.789880      5.320633     -1.629190    5.034071e-04   \n",
       "PPE                 -1.416863     -0.842593     -1.331286    2.025499e-04   \n",
       "\n",
       "                  MDVP:Jitter(Abs)      MDVP:RAP      MDVP:PPQ    Jitter:DDP  \\\n",
       "MDVP:Fo(Hz)          -5.248300e-04 -1.056192e-02 -1.663552e-02 -3.169261e-02   \n",
       "MDVP:Fhi(Hz)         -3.586316e-04 -2.483081e-03 -5.959606e-03 -7.478470e-03   \n",
       "MDVP:Flo(Hz)         -3.967109e-04 -1.653844e-02 -1.731687e-02 -4.960396e-02   \n",
       "MDVP:Jitter(%)        7.779816e-08  5.061620e-06  4.942366e-06  1.517836e-05   \n",
       "MDVP:Jitter(Abs)      7.547604e-10  4.187731e-08  4.260524e-08  1.255791e-07   \n",
       "MDVP:RAP              4.187731e-08  2.892958e-06  2.704279e-06  8.675079e-06   \n",
       "MDVP:PPQ              4.260524e-08  2.704279e-06  2.818392e-06  8.109266e-06   \n",
       "Jitter:DDP            1.255791e-07  8.675079e-06  8.109266e-06  2.601392e-05   \n",
       "MDVP:Shimmer          3.027890e-07  1.994718e-05  2.061334e-05  5.981256e-05   \n",
       "MDVP:Shimmer(dB)      2.977424e-06  1.954964e-04  2.026598e-04  5.861936e-04   \n",
       "Shimmer:APQ3          1.608083e-07  1.072426e-05  1.089410e-05  3.215765e-05   \n",
       "Shimmer:APQ5          1.793660e-07  1.183148e-05  1.280747e-05  3.547819e-05   \n",
       "MDVP:APQ              2.299887e-07  1.480948e-05  1.550510e-05  4.440721e-05   \n",
       "Shimmer:DDA           4.824230e-07  3.217197e-05  3.268205e-05  9.647047e-05   \n",
       "NHR                   3.029761e-07  2.185520e-05  1.964094e-05  6.552929e-05   \n",
       "HNR                  -7.824110e-05 -5.525271e-03 -5.402927e-03 -1.656841e-02   \n",
       "RPDE                  1.346965e-06  6.739836e-05  6.804697e-05  2.020760e-04   \n",
       "DFA                   4.246039e-07  1.546247e-05  2.707756e-05  4.637151e-05   \n",
       "spread1               2.340242e-05  1.280349e-03  1.407171e-03  3.839862e-03   \n",
       "spread2               9.998827e-07  4.717478e-05  5.933482e-05  1.414470e-04   \n",
       "D2                    3.189300e-06  2.806958e-04  2.514762e-04  8.416405e-04   \n",
       "PPE                   1.912496e-06  1.047083e-04  1.190558e-04  3.140285e-04   \n",
       "\n",
       "                  MDVP:Shimmer  MDVP:Shimmer(dB)  ...      MDVP:APQ  \\\n",
       "MDVP:Fo(Hz)      -8.673973e-02         -0.840792  ... -8.644976e-02   \n",
       "MDVP:Fhi(Hz)     -7.008023e-02         -0.468590  ... -5.844125e-02   \n",
       "MDVP:Flo(Hz)     -1.311232e-01         -1.331428  ... -1.213249e-01   \n",
       "MDVP:Jitter(%)    3.587677e-05          0.000353  ...  2.716150e-05   \n",
       "MDVP:Jitter(Abs)  3.027890e-07          0.000003  ...  2.299887e-07   \n",
       "MDVP:RAP          1.994718e-05          0.000195  ...  1.480948e-05   \n",
       "MDVP:PPQ          2.061334e-05          0.000203  ...  1.550510e-05   \n",
       "Jitter:DDP        5.981256e-05          0.000586  ...  4.440721e-05   \n",
       "MDVP:Shimmer      2.780318e-04          0.002634  ...  2.105737e-04   \n",
       "MDVP:Shimmer(dB)  2.634067e-03          0.025359  ...  2.005305e-03   \n",
       "Shimmer:APQ3      1.508396e-04          0.001421  ...  1.110669e-04   \n",
       "Shimmer:APQ5      1.706679e-04          0.001620  ...  1.294528e-04   \n",
       "MDVP:APQ          2.105737e-04          0.002005  ...  1.695574e-04   \n",
       "Shimmer:DDA       4.525124e-04          0.004262  ...  3.331964e-04   \n",
       "NHR               1.970236e-04          0.001921  ...  1.527682e-04   \n",
       "HNR              -6.061063e-02         -0.578309  ... -4.684119e-02   \n",
       "RPDE              8.020475e-04          0.007357  ...  6.999333e-04   \n",
       "DFA               1.624122e-04          0.001567  ...  1.018215e-04   \n",
       "spread1           1.160951e-02          0.111217  ...  9.521427e-03   \n",
       "spread2           6.188285e-04          0.005949  ...  5.303022e-04   \n",
       "D2                3.220573e-03          0.030881  ...  2.650923e-03   \n",
       "PPE               9.767828e-04          0.009387  ...  8.025752e-04   \n",
       "\n",
       "                   Shimmer:DDA           NHR        HNR      RPDE  \\\n",
       "MDVP:Fo(Hz)      -1.239489e-01 -2.957384e-02  11.208068 -1.651571   \n",
       "MDVP:Fhi(Hz)     -1.265228e-01  1.394460e-01  -5.494450 -1.119196   \n",
       "MDVP:Flo(Hz)     -2.017256e-01 -1.867344e-01  41.020984 -1.795640   \n",
       "MDVP:Jitter(%)    5.714410e-05  3.890404e-05  -0.009772  0.000127   \n",
       "MDVP:Jitter(Abs)  4.824230e-07  3.029761e-07  -0.000078  0.000001   \n",
       "MDVP:RAP          3.217197e-05  2.185520e-05  -0.005525  0.000067   \n",
       "MDVP:PPQ          3.268205e-05  1.964094e-05  -0.005403  0.000068   \n",
       "Jitter:DDP        9.647047e-05  6.552929e-05  -0.016568  0.000202   \n",
       "MDVP:Shimmer      4.525124e-04  1.970236e-04  -0.060611  0.000802   \n",
       "MDVP:Shimmer(dB)  4.261868e-03  1.920614e-03  -0.578309  0.007357   \n",
       "Shimmer:APQ3      2.506283e-04  1.046857e-04  -0.032932  0.000422   \n",
       "Shimmer:APQ5      2.762740e-04  1.151624e-04  -0.037124  0.000456   \n",
       "MDVP:APQ          3.331964e-04  1.527682e-04  -0.046841  0.000700   \n",
       "Shimmer:DDA       7.518740e-04  3.140482e-04  -0.098796  0.001266   \n",
       "NHR               3.140482e-04  2.690774e-04  -0.058703  0.000862   \n",
       "HNR              -9.879604e-02 -5.870269e-02  19.030706 -0.272397   \n",
       "RPDE              1.265927e-03  8.623323e-04  -0.272397  0.010804   \n",
       "DFA               2.747990e-04 -1.335495e-04  -0.001923 -0.000638   \n",
       "spread1           1.790619e-02  1.070768e-02  -3.150229  0.066591   \n",
       "spread2           9.240238e-04  5.670737e-04  -0.155201  0.004141   \n",
       "D2                4.937681e-03  3.829377e-03  -0.991451  0.009318   \n",
       "PPE               1.504103e-03  8.148272e-04  -0.260305  0.005012   \n",
       "\n",
       "                           DFA    spread1       spread2        D2       PPE  \n",
       "MDVP:Fo(Hz)      -1.021528e+00 -18.790651 -8.597735e-01  2.789880 -1.416863  \n",
       "MDVP:Fhi(Hz)     -1.520175e+00 -10.995384 -2.090581e-01  5.320633 -0.842593  \n",
       "MDVP:Flo(Hz)     -9.309547e-02 -18.382763 -8.611537e-01 -1.629190 -1.331286  \n",
       "MDVP:Jitter(%)    3.199563e-05   0.002456  1.051662e-04  0.000503  0.000203  \n",
       "MDVP:Jitter(Abs)  4.246039e-07   0.000023  9.998827e-07  0.000003  0.000002  \n",
       "MDVP:RAP          1.546247e-05   0.001280  4.717478e-05  0.000281  0.000105  \n",
       "MDVP:PPQ          2.707756e-05   0.001407  5.933482e-05  0.000251  0.000119  \n",
       "Jitter:DDP        4.637151e-05   0.003840  1.414470e-04  0.000842  0.000314  \n",
       "MDVP:Shimmer      1.624122e-04   0.011610  6.188285e-04  0.003221  0.000977  \n",
       "MDVP:Shimmer(dB)  1.567149e-03   0.111217  5.948722e-03  0.030881  0.009387  \n",
       "Shimmer:APQ3      9.159611e-05   0.005969  3.080303e-04  0.001646  0.000501  \n",
       "Shimmer:APQ5      1.234137e-04   0.007110  3.826168e-04  0.001974  0.000614  \n",
       "MDVP:APQ          1.018215e-04   0.009521  5.303022e-04  0.002651  0.000803  \n",
       "Shimmer:DDA       2.747990e-04   0.017906  9.240238e-04  0.004938  0.001504  \n",
       "NHR              -1.335495e-04   0.010708  5.670737e-04  0.003829  0.000815  \n",
       "HNR              -1.923162e-03  -3.150229 -1.552012e-01 -0.991451 -0.260305  \n",
       "RPDE             -6.381510e-04   0.066591  4.140607e-03  0.009318  0.005012  \n",
       "DFA               3.062054e-03   0.011662  7.630559e-04 -0.003536  0.001315  \n",
       "spread1           1.166212e-02   1.169428  5.835983e-02  0.202812  0.091058  \n",
       "spread2           7.630559e-04   0.058360  6.901533e-03  0.016475  0.004649  \n",
       "D2               -3.535517e-03   0.202812  1.647476e-02  0.143763  0.015739  \n",
       "PPE               1.314945e-03   0.091058  4.648666e-03  0.015739  0.007640  \n",
       "\n",
       "[22 rows x 22 columns]"
      ]
     },
     "execution_count": 15,
     "metadata": {},
     "output_type": "execute_result"
    }
   ],
   "source": [
    "df_outlier_removed.cov()"
   ]
  },
  {
   "cell_type": "code",
   "execution_count": 16,
   "id": "dd9fadb1",
   "metadata": {},
   "outputs": [
    {
     "data": {
      "text/html": [
       "<div>\n",
       "<style scoped>\n",
       "    .dataframe tbody tr th:only-of-type {\n",
       "        vertical-align: middle;\n",
       "    }\n",
       "\n",
       "    .dataframe tbody tr th {\n",
       "        vertical-align: top;\n",
       "    }\n",
       "\n",
       "    .dataframe thead th {\n",
       "        text-align: right;\n",
       "    }\n",
       "</style>\n",
       "<table border=\"1\" class=\"dataframe\">\n",
       "  <thead>\n",
       "    <tr style=\"text-align: right;\">\n",
       "      <th></th>\n",
       "      <th>MDVP:Fo(Hz)</th>\n",
       "      <th>MDVP:Fhi(Hz)</th>\n",
       "      <th>MDVP:Flo(Hz)</th>\n",
       "      <th>MDVP:Jitter(%)</th>\n",
       "      <th>MDVP:Jitter(Abs)</th>\n",
       "      <th>MDVP:RAP</th>\n",
       "      <th>MDVP:PPQ</th>\n",
       "      <th>Jitter:DDP</th>\n",
       "      <th>MDVP:Shimmer</th>\n",
       "      <th>MDVP:Shimmer(dB)</th>\n",
       "      <th>...</th>\n",
       "      <th>MDVP:APQ</th>\n",
       "      <th>Shimmer:DDA</th>\n",
       "      <th>NHR</th>\n",
       "      <th>HNR</th>\n",
       "      <th>RPDE</th>\n",
       "      <th>DFA</th>\n",
       "      <th>spread1</th>\n",
       "      <th>spread2</th>\n",
       "      <th>D2</th>\n",
       "      <th>PPE</th>\n",
       "    </tr>\n",
       "  </thead>\n",
       "  <tbody>\n",
       "    <tr>\n",
       "      <th>MDVP:Fo(Hz)</th>\n",
       "      <td>1.000000</td>\n",
       "      <td>0.622772</td>\n",
       "      <td>0.591155</td>\n",
       "      <td>-0.212884</td>\n",
       "      <td>-0.461549</td>\n",
       "      <td>-0.150029</td>\n",
       "      <td>-0.239408</td>\n",
       "      <td>-0.150127</td>\n",
       "      <td>-0.125682</td>\n",
       "      <td>-0.127563</td>\n",
       "      <td>...</td>\n",
       "      <td>-0.160402</td>\n",
       "      <td>-0.109213</td>\n",
       "      <td>-0.043559</td>\n",
       "      <td>0.062074</td>\n",
       "      <td>-0.383894</td>\n",
       "      <td>-0.446013</td>\n",
       "      <td>-0.419816</td>\n",
       "      <td>-0.250043</td>\n",
       "      <td>0.177773</td>\n",
       "      <td>-0.391626</td>\n",
       "    </tr>\n",
       "    <tr>\n",
       "      <th>MDVP:Fhi(Hz)</th>\n",
       "      <td>0.622772</td>\n",
       "      <td>1.000000</td>\n",
       "      <td>0.184217</td>\n",
       "      <td>-0.021559</td>\n",
       "      <td>-0.208747</td>\n",
       "      <td>-0.023345</td>\n",
       "      <td>-0.056767</td>\n",
       "      <td>-0.023447</td>\n",
       "      <td>-0.067209</td>\n",
       "      <td>-0.047055</td>\n",
       "      <td>...</td>\n",
       "      <td>-0.071769</td>\n",
       "      <td>-0.073786</td>\n",
       "      <td>0.135939</td>\n",
       "      <td>-0.020141</td>\n",
       "      <td>-0.172184</td>\n",
       "      <td>-0.439302</td>\n",
       "      <td>-0.162592</td>\n",
       "      <td>-0.040241</td>\n",
       "      <td>0.224396</td>\n",
       "      <td>-0.154147</td>\n",
       "    </tr>\n",
       "    <tr>\n",
       "      <th>MDVP:Flo(Hz)</th>\n",
       "      <td>0.591155</td>\n",
       "      <td>0.184217</td>\n",
       "      <td>1.000000</td>\n",
       "      <td>-0.273416</td>\n",
       "      <td>-0.338808</td>\n",
       "      <td>-0.228143</td>\n",
       "      <td>-0.242020</td>\n",
       "      <td>-0.228190</td>\n",
       "      <td>-0.184508</td>\n",
       "      <td>-0.196171</td>\n",
       "      <td>...</td>\n",
       "      <td>-0.218613</td>\n",
       "      <td>-0.172612</td>\n",
       "      <td>-0.267097</td>\n",
       "      <td>0.220629</td>\n",
       "      <td>-0.405334</td>\n",
       "      <td>-0.039473</td>\n",
       "      <td>-0.398848</td>\n",
       "      <td>-0.243216</td>\n",
       "      <td>-0.100816</td>\n",
       "      <td>-0.357351</td>\n",
       "    </tr>\n",
       "    <tr>\n",
       "      <th>MDVP:Jitter(%)</th>\n",
       "      <td>-0.212884</td>\n",
       "      <td>-0.021559</td>\n",
       "      <td>-0.273416</td>\n",
       "      <td>1.000000</td>\n",
       "      <td>0.931357</td>\n",
       "      <td>0.978745</td>\n",
       "      <td>0.968245</td>\n",
       "      <td>0.978753</td>\n",
       "      <td>0.707648</td>\n",
       "      <td>0.729939</td>\n",
       "      <td>...</td>\n",
       "      <td>0.686035</td>\n",
       "      <td>0.685409</td>\n",
       "      <td>0.780023</td>\n",
       "      <td>-0.736730</td>\n",
       "      <td>0.402644</td>\n",
       "      <td>0.190167</td>\n",
       "      <td>0.747034</td>\n",
       "      <td>0.416346</td>\n",
       "      <td>0.436663</td>\n",
       "      <td>0.762120</td>\n",
       "    </tr>\n",
       "    <tr>\n",
       "      <th>MDVP:Jitter(Abs)</th>\n",
       "      <td>-0.461549</td>\n",
       "      <td>-0.208747</td>\n",
       "      <td>-0.338808</td>\n",
       "      <td>0.931357</td>\n",
       "      <td>1.000000</td>\n",
       "      <td>0.896196</td>\n",
       "      <td>0.923757</td>\n",
       "      <td>0.896211</td>\n",
       "      <td>0.660980</td>\n",
       "      <td>0.680565</td>\n",
       "      <td>...</td>\n",
       "      <td>0.642900</td>\n",
       "      <td>0.640399</td>\n",
       "      <td>0.672303</td>\n",
       "      <td>-0.652834</td>\n",
       "      <td>0.471696</td>\n",
       "      <td>0.279301</td>\n",
       "      <td>0.787716</td>\n",
       "      <td>0.438098</td>\n",
       "      <td>0.306173</td>\n",
       "      <td>0.796409</td>\n",
       "    </tr>\n",
       "    <tr>\n",
       "      <th>MDVP:RAP</th>\n",
       "      <td>-0.150029</td>\n",
       "      <td>-0.023345</td>\n",
       "      <td>-0.228143</td>\n",
       "      <td>0.978745</td>\n",
       "      <td>0.896196</td>\n",
       "      <td>1.000000</td>\n",
       "      <td>0.947065</td>\n",
       "      <td>0.999999</td>\n",
       "      <td>0.703337</td>\n",
       "      <td>0.721774</td>\n",
       "      <td>...</td>\n",
       "      <td>0.668668</td>\n",
       "      <td>0.689817</td>\n",
       "      <td>0.783331</td>\n",
       "      <td>-0.744655</td>\n",
       "      <td>0.381231</td>\n",
       "      <td>0.164286</td>\n",
       "      <td>0.696099</td>\n",
       "      <td>0.333861</td>\n",
       "      <td>0.435252</td>\n",
       "      <td>0.704288</td>\n",
       "    </tr>\n",
       "    <tr>\n",
       "      <th>MDVP:PPQ</th>\n",
       "      <td>-0.239408</td>\n",
       "      <td>-0.056767</td>\n",
       "      <td>-0.242020</td>\n",
       "      <td>0.968245</td>\n",
       "      <td>0.923757</td>\n",
       "      <td>0.947065</td>\n",
       "      <td>1.000000</td>\n",
       "      <td>0.947061</td>\n",
       "      <td>0.736377</td>\n",
       "      <td>0.758054</td>\n",
       "      <td>...</td>\n",
       "      <td>0.709276</td>\n",
       "      <td>0.709964</td>\n",
       "      <td>0.713219</td>\n",
       "      <td>-0.737736</td>\n",
       "      <td>0.389958</td>\n",
       "      <td>0.291476</td>\n",
       "      <td>0.775103</td>\n",
       "      <td>0.425438</td>\n",
       "      <td>0.395068</td>\n",
       "      <td>0.811315</td>\n",
       "    </tr>\n",
       "    <tr>\n",
       "      <th>Jitter:DDP</th>\n",
       "      <td>-0.150127</td>\n",
       "      <td>-0.023447</td>\n",
       "      <td>-0.228190</td>\n",
       "      <td>0.978753</td>\n",
       "      <td>0.896211</td>\n",
       "      <td>0.999999</td>\n",
       "      <td>0.947061</td>\n",
       "      <td>1.000000</td>\n",
       "      <td>0.703303</td>\n",
       "      <td>0.721725</td>\n",
       "      <td>...</td>\n",
       "      <td>0.668640</td>\n",
       "      <td>0.689793</td>\n",
       "      <td>0.783238</td>\n",
       "      <td>-0.744647</td>\n",
       "      <td>0.381173</td>\n",
       "      <td>0.164302</td>\n",
       "      <td>0.696187</td>\n",
       "      <td>0.333824</td>\n",
       "      <td>0.435211</td>\n",
       "      <td>0.704379</td>\n",
       "    </tr>\n",
       "    <tr>\n",
       "      <th>MDVP:Shimmer</th>\n",
       "      <td>-0.125682</td>\n",
       "      <td>-0.067209</td>\n",
       "      <td>-0.184508</td>\n",
       "      <td>0.707648</td>\n",
       "      <td>0.660980</td>\n",
       "      <td>0.703337</td>\n",
       "      <td>0.736377</td>\n",
       "      <td>0.703303</td>\n",
       "      <td>1.000000</td>\n",
       "      <td>0.992003</td>\n",
       "      <td>...</td>\n",
       "      <td>0.969837</td>\n",
       "      <td>0.989716</td>\n",
       "      <td>0.720332</td>\n",
       "      <td>-0.833248</td>\n",
       "      <td>0.462768</td>\n",
       "      <td>0.176021</td>\n",
       "      <td>0.643843</td>\n",
       "      <td>0.446735</td>\n",
       "      <td>0.509403</td>\n",
       "      <td>0.670179</td>\n",
       "    </tr>\n",
       "    <tr>\n",
       "      <th>MDVP:Shimmer(dB)</th>\n",
       "      <td>-0.127563</td>\n",
       "      <td>-0.047055</td>\n",
       "      <td>-0.196171</td>\n",
       "      <td>0.729939</td>\n",
       "      <td>0.680565</td>\n",
       "      <td>0.721774</td>\n",
       "      <td>0.758054</td>\n",
       "      <td>0.721725</td>\n",
       "      <td>0.992003</td>\n",
       "      <td>1.000000</td>\n",
       "      <td>...</td>\n",
       "      <td>0.967065</td>\n",
       "      <td>0.976025</td>\n",
       "      <td>0.735250</td>\n",
       "      <td>-0.832464</td>\n",
       "      <td>0.444480</td>\n",
       "      <td>0.177843</td>\n",
       "      <td>0.645827</td>\n",
       "      <td>0.449660</td>\n",
       "      <td>0.511449</td>\n",
       "      <td>0.674386</td>\n",
       "    </tr>\n",
       "    <tr>\n",
       "      <th>Shimmer:APQ3</th>\n",
       "      <td>-0.109200</td>\n",
       "      <td>-0.073782</td>\n",
       "      <td>-0.172626</td>\n",
       "      <td>0.685411</td>\n",
       "      <td>0.640392</td>\n",
       "      <td>0.689825</td>\n",
       "      <td>0.709959</td>\n",
       "      <td>0.689801</td>\n",
       "      <td>0.989716</td>\n",
       "      <td>0.976021</td>\n",
       "      <td>...</td>\n",
       "      <td>0.933187</td>\n",
       "      <td>1.000000</td>\n",
       "      <td>0.698218</td>\n",
       "      <td>-0.825916</td>\n",
       "      <td>0.444172</td>\n",
       "      <td>0.181098</td>\n",
       "      <td>0.603872</td>\n",
       "      <td>0.405661</td>\n",
       "      <td>0.474931</td>\n",
       "      <td>0.627538</td>\n",
       "    </tr>\n",
       "    <tr>\n",
       "      <th>Shimmer:APQ5</th>\n",
       "      <td>-0.103381</td>\n",
       "      <td>-0.060145</td>\n",
       "      <td>-0.151280</td>\n",
       "      <td>0.675476</td>\n",
       "      <td>0.628022</td>\n",
       "      <td>0.669126</td>\n",
       "      <td>0.733842</td>\n",
       "      <td>0.669111</td>\n",
       "      <td>0.984565</td>\n",
       "      <td>0.978399</td>\n",
       "      <td>...</td>\n",
       "      <td>0.956297</td>\n",
       "      <td>0.969186</td>\n",
       "      <td>0.675324</td>\n",
       "      <td>-0.818596</td>\n",
       "      <td>0.421917</td>\n",
       "      <td>0.214534</td>\n",
       "      <td>0.632452</td>\n",
       "      <td>0.443028</td>\n",
       "      <td>0.500901</td>\n",
       "      <td>0.675246</td>\n",
       "    </tr>\n",
       "    <tr>\n",
       "      <th>MDVP:APQ</th>\n",
       "      <td>-0.160402</td>\n",
       "      <td>-0.071769</td>\n",
       "      <td>-0.218613</td>\n",
       "      <td>0.686035</td>\n",
       "      <td>0.642900</td>\n",
       "      <td>0.668668</td>\n",
       "      <td>0.709276</td>\n",
       "      <td>0.668640</td>\n",
       "      <td>0.969837</td>\n",
       "      <td>0.967065</td>\n",
       "      <td>...</td>\n",
       "      <td>1.000000</td>\n",
       "      <td>0.933189</td>\n",
       "      <td>0.715214</td>\n",
       "      <td>-0.824598</td>\n",
       "      <td>0.517140</td>\n",
       "      <td>0.141311</td>\n",
       "      <td>0.676172</td>\n",
       "      <td>0.490221</td>\n",
       "      <td>0.536926</td>\n",
       "      <td>0.705127</td>\n",
       "    </tr>\n",
       "    <tr>\n",
       "      <th>Shimmer:DDA</th>\n",
       "      <td>-0.109213</td>\n",
       "      <td>-0.073786</td>\n",
       "      <td>-0.172612</td>\n",
       "      <td>0.685409</td>\n",
       "      <td>0.640399</td>\n",
       "      <td>0.689817</td>\n",
       "      <td>0.709964</td>\n",
       "      <td>0.689793</td>\n",
       "      <td>0.989716</td>\n",
       "      <td>0.976025</td>\n",
       "      <td>...</td>\n",
       "      <td>0.933189</td>\n",
       "      <td>1.000000</td>\n",
       "      <td>0.698208</td>\n",
       "      <td>-0.825923</td>\n",
       "      <td>0.444167</td>\n",
       "      <td>0.181107</td>\n",
       "      <td>0.603871</td>\n",
       "      <td>0.405637</td>\n",
       "      <td>0.474926</td>\n",
       "      <td>0.627545</td>\n",
       "    </tr>\n",
       "    <tr>\n",
       "      <th>NHR</th>\n",
       "      <td>-0.043559</td>\n",
       "      <td>0.135939</td>\n",
       "      <td>-0.267097</td>\n",
       "      <td>0.780023</td>\n",
       "      <td>0.672303</td>\n",
       "      <td>0.783331</td>\n",
       "      <td>0.713219</td>\n",
       "      <td>0.783238</td>\n",
       "      <td>0.720332</td>\n",
       "      <td>0.735250</td>\n",
       "      <td>...</td>\n",
       "      <td>0.715214</td>\n",
       "      <td>0.698208</td>\n",
       "      <td>1.000000</td>\n",
       "      <td>-0.820336</td>\n",
       "      <td>0.505762</td>\n",
       "      <td>-0.147129</td>\n",
       "      <td>0.603629</td>\n",
       "      <td>0.416129</td>\n",
       "      <td>0.615695</td>\n",
       "      <td>0.568286</td>\n",
       "    </tr>\n",
       "    <tr>\n",
       "      <th>HNR</th>\n",
       "      <td>0.062074</td>\n",
       "      <td>-0.020141</td>\n",
       "      <td>0.220629</td>\n",
       "      <td>-0.736730</td>\n",
       "      <td>-0.652834</td>\n",
       "      <td>-0.744655</td>\n",
       "      <td>-0.737736</td>\n",
       "      <td>-0.744647</td>\n",
       "      <td>-0.833248</td>\n",
       "      <td>-0.832464</td>\n",
       "      <td>...</td>\n",
       "      <td>-0.824598</td>\n",
       "      <td>-0.825923</td>\n",
       "      <td>-0.820336</td>\n",
       "      <td>1.000000</td>\n",
       "      <td>-0.600738</td>\n",
       "      <td>-0.007967</td>\n",
       "      <td>-0.667772</td>\n",
       "      <td>-0.428248</td>\n",
       "      <td>-0.599404</td>\n",
       "      <td>-0.682645</td>\n",
       "    </tr>\n",
       "    <tr>\n",
       "      <th>RPDE</th>\n",
       "      <td>-0.383894</td>\n",
       "      <td>-0.172184</td>\n",
       "      <td>-0.405334</td>\n",
       "      <td>0.402644</td>\n",
       "      <td>0.471696</td>\n",
       "      <td>0.381231</td>\n",
       "      <td>0.389958</td>\n",
       "      <td>0.381173</td>\n",
       "      <td>0.462768</td>\n",
       "      <td>0.444480</td>\n",
       "      <td>...</td>\n",
       "      <td>0.517140</td>\n",
       "      <td>0.444167</td>\n",
       "      <td>0.505762</td>\n",
       "      <td>-0.600738</td>\n",
       "      <td>1.000000</td>\n",
       "      <td>-0.110950</td>\n",
       "      <td>0.592437</td>\n",
       "      <td>0.479514</td>\n",
       "      <td>0.236440</td>\n",
       "      <td>0.551637</td>\n",
       "    </tr>\n",
       "    <tr>\n",
       "      <th>DFA</th>\n",
       "      <td>-0.446013</td>\n",
       "      <td>-0.439302</td>\n",
       "      <td>-0.039473</td>\n",
       "      <td>0.190167</td>\n",
       "      <td>0.279301</td>\n",
       "      <td>0.164286</td>\n",
       "      <td>0.291476</td>\n",
       "      <td>0.164302</td>\n",
       "      <td>0.176021</td>\n",
       "      <td>0.177843</td>\n",
       "      <td>...</td>\n",
       "      <td>0.141311</td>\n",
       "      <td>0.181107</td>\n",
       "      <td>-0.147129</td>\n",
       "      <td>-0.007967</td>\n",
       "      <td>-0.110950</td>\n",
       "      <td>1.000000</td>\n",
       "      <td>0.194888</td>\n",
       "      <td>0.165988</td>\n",
       "      <td>-0.168509</td>\n",
       "      <td>0.271857</td>\n",
       "    </tr>\n",
       "    <tr>\n",
       "      <th>spread1</th>\n",
       "      <td>-0.419816</td>\n",
       "      <td>-0.162592</td>\n",
       "      <td>-0.398848</td>\n",
       "      <td>0.747034</td>\n",
       "      <td>0.787716</td>\n",
       "      <td>0.696099</td>\n",
       "      <td>0.775103</td>\n",
       "      <td>0.696187</td>\n",
       "      <td>0.643843</td>\n",
       "      <td>0.645827</td>\n",
       "      <td>...</td>\n",
       "      <td>0.676172</td>\n",
       "      <td>0.603871</td>\n",
       "      <td>0.603629</td>\n",
       "      <td>-0.667772</td>\n",
       "      <td>0.592437</td>\n",
       "      <td>0.194888</td>\n",
       "      <td>1.000000</td>\n",
       "      <td>0.649613</td>\n",
       "      <td>0.494632</td>\n",
       "      <td>0.963325</td>\n",
       "    </tr>\n",
       "    <tr>\n",
       "      <th>spread2</th>\n",
       "      <td>-0.250043</td>\n",
       "      <td>-0.040241</td>\n",
       "      <td>-0.243216</td>\n",
       "      <td>0.416346</td>\n",
       "      <td>0.438098</td>\n",
       "      <td>0.333861</td>\n",
       "      <td>0.425438</td>\n",
       "      <td>0.333824</td>\n",
       "      <td>0.446735</td>\n",
       "      <td>0.449660</td>\n",
       "      <td>...</td>\n",
       "      <td>0.490221</td>\n",
       "      <td>0.405637</td>\n",
       "      <td>0.416129</td>\n",
       "      <td>-0.428248</td>\n",
       "      <td>0.479514</td>\n",
       "      <td>0.165988</td>\n",
       "      <td>0.649613</td>\n",
       "      <td>1.000000</td>\n",
       "      <td>0.523025</td>\n",
       "      <td>0.640170</td>\n",
       "    </tr>\n",
       "    <tr>\n",
       "      <th>D2</th>\n",
       "      <td>0.177773</td>\n",
       "      <td>0.224396</td>\n",
       "      <td>-0.100816</td>\n",
       "      <td>0.436663</td>\n",
       "      <td>0.306173</td>\n",
       "      <td>0.435252</td>\n",
       "      <td>0.395068</td>\n",
       "      <td>0.435211</td>\n",
       "      <td>0.509403</td>\n",
       "      <td>0.511449</td>\n",
       "      <td>...</td>\n",
       "      <td>0.536926</td>\n",
       "      <td>0.474926</td>\n",
       "      <td>0.615695</td>\n",
       "      <td>-0.599404</td>\n",
       "      <td>0.236440</td>\n",
       "      <td>-0.168509</td>\n",
       "      <td>0.494632</td>\n",
       "      <td>0.523025</td>\n",
       "      <td>1.000000</td>\n",
       "      <td>0.474877</td>\n",
       "    </tr>\n",
       "    <tr>\n",
       "      <th>PPE</th>\n",
       "      <td>-0.391626</td>\n",
       "      <td>-0.154147</td>\n",
       "      <td>-0.357351</td>\n",
       "      <td>0.762120</td>\n",
       "      <td>0.796409</td>\n",
       "      <td>0.704288</td>\n",
       "      <td>0.811315</td>\n",
       "      <td>0.704379</td>\n",
       "      <td>0.670179</td>\n",
       "      <td>0.674386</td>\n",
       "      <td>...</td>\n",
       "      <td>0.705127</td>\n",
       "      <td>0.627545</td>\n",
       "      <td>0.568286</td>\n",
       "      <td>-0.682645</td>\n",
       "      <td>0.551637</td>\n",
       "      <td>0.271857</td>\n",
       "      <td>0.963325</td>\n",
       "      <td>0.640170</td>\n",
       "      <td>0.474877</td>\n",
       "      <td>1.000000</td>\n",
       "    </tr>\n",
       "  </tbody>\n",
       "</table>\n",
       "<p>22 rows × 22 columns</p>\n",
       "</div>"
      ],
      "text/plain": [
       "                  MDVP:Fo(Hz)  MDVP:Fhi(Hz)  MDVP:Flo(Hz)  MDVP:Jitter(%)  \\\n",
       "MDVP:Fo(Hz)          1.000000      0.622772      0.591155       -0.212884   \n",
       "MDVP:Fhi(Hz)         0.622772      1.000000      0.184217       -0.021559   \n",
       "MDVP:Flo(Hz)         0.591155      0.184217      1.000000       -0.273416   \n",
       "MDVP:Jitter(%)      -0.212884     -0.021559     -0.273416        1.000000   \n",
       "MDVP:Jitter(Abs)    -0.461549     -0.208747     -0.338808        0.931357   \n",
       "MDVP:RAP            -0.150029     -0.023345     -0.228143        0.978745   \n",
       "MDVP:PPQ            -0.239408     -0.056767     -0.242020        0.968245   \n",
       "Jitter:DDP          -0.150127     -0.023447     -0.228190        0.978753   \n",
       "MDVP:Shimmer        -0.125682     -0.067209     -0.184508        0.707648   \n",
       "MDVP:Shimmer(dB)    -0.127563     -0.047055     -0.196171        0.729939   \n",
       "Shimmer:APQ3        -0.109200     -0.073782     -0.172626        0.685411   \n",
       "Shimmer:APQ5        -0.103381     -0.060145     -0.151280        0.675476   \n",
       "MDVP:APQ            -0.160402     -0.071769     -0.218613        0.686035   \n",
       "Shimmer:DDA         -0.109213     -0.073786     -0.172612        0.685409   \n",
       "NHR                 -0.043559      0.135939     -0.267097        0.780023   \n",
       "HNR                  0.062074     -0.020141      0.220629       -0.736730   \n",
       "RPDE                -0.383894     -0.172184     -0.405334        0.402644   \n",
       "DFA                 -0.446013     -0.439302     -0.039473        0.190167   \n",
       "spread1             -0.419816     -0.162592     -0.398848        0.747034   \n",
       "spread2             -0.250043     -0.040241     -0.243216        0.416346   \n",
       "D2                   0.177773      0.224396     -0.100816        0.436663   \n",
       "PPE                 -0.391626     -0.154147     -0.357351        0.762120   \n",
       "\n",
       "                  MDVP:Jitter(Abs)  MDVP:RAP  MDVP:PPQ  Jitter:DDP  \\\n",
       "MDVP:Fo(Hz)              -0.461549 -0.150029 -0.239408   -0.150127   \n",
       "MDVP:Fhi(Hz)             -0.208747 -0.023345 -0.056767   -0.023447   \n",
       "MDVP:Flo(Hz)             -0.338808 -0.228143 -0.242020   -0.228190   \n",
       "MDVP:Jitter(%)            0.931357  0.978745  0.968245    0.978753   \n",
       "MDVP:Jitter(Abs)          1.000000  0.896196  0.923757    0.896211   \n",
       "MDVP:RAP                  0.896196  1.000000  0.947065    0.999999   \n",
       "MDVP:PPQ                  0.923757  0.947065  1.000000    0.947061   \n",
       "Jitter:DDP                0.896211  0.999999  0.947061    1.000000   \n",
       "MDVP:Shimmer              0.660980  0.703337  0.736377    0.703303   \n",
       "MDVP:Shimmer(dB)          0.680565  0.721774  0.758054    0.721725   \n",
       "Shimmer:APQ3              0.640392  0.689825  0.709959    0.689801   \n",
       "Shimmer:APQ5              0.628022  0.669126  0.733842    0.669111   \n",
       "MDVP:APQ                  0.642900  0.668668  0.709276    0.668640   \n",
       "Shimmer:DDA               0.640399  0.689817  0.709964    0.689793   \n",
       "NHR                       0.672303  0.783331  0.713219    0.783238   \n",
       "HNR                      -0.652834 -0.744655 -0.737736   -0.744647   \n",
       "RPDE                      0.471696  0.381231  0.389958    0.381173   \n",
       "DFA                       0.279301  0.164286  0.291476    0.164302   \n",
       "spread1                   0.787716  0.696099  0.775103    0.696187   \n",
       "spread2                   0.438098  0.333861  0.425438    0.333824   \n",
       "D2                        0.306173  0.435252  0.395068    0.435211   \n",
       "PPE                       0.796409  0.704288  0.811315    0.704379   \n",
       "\n",
       "                  MDVP:Shimmer  MDVP:Shimmer(dB)  ...  MDVP:APQ  Shimmer:DDA  \\\n",
       "MDVP:Fo(Hz)          -0.125682         -0.127563  ... -0.160402    -0.109213   \n",
       "MDVP:Fhi(Hz)         -0.067209         -0.047055  ... -0.071769    -0.073786   \n",
       "MDVP:Flo(Hz)         -0.184508         -0.196171  ... -0.218613    -0.172612   \n",
       "MDVP:Jitter(%)        0.707648          0.729939  ...  0.686035     0.685409   \n",
       "MDVP:Jitter(Abs)      0.660980          0.680565  ...  0.642900     0.640399   \n",
       "MDVP:RAP              0.703337          0.721774  ...  0.668668     0.689817   \n",
       "MDVP:PPQ              0.736377          0.758054  ...  0.709276     0.709964   \n",
       "Jitter:DDP            0.703303          0.721725  ...  0.668640     0.689793   \n",
       "MDVP:Shimmer          1.000000          0.992003  ...  0.969837     0.989716   \n",
       "MDVP:Shimmer(dB)      0.992003          1.000000  ...  0.967065     0.976025   \n",
       "Shimmer:APQ3          0.989716          0.976021  ...  0.933187     1.000000   \n",
       "Shimmer:APQ5          0.984565          0.978399  ...  0.956297     0.969186   \n",
       "MDVP:APQ              0.969837          0.967065  ...  1.000000     0.933189   \n",
       "Shimmer:DDA           0.989716          0.976025  ...  0.933189     1.000000   \n",
       "NHR                   0.720332          0.735250  ...  0.715214     0.698208   \n",
       "HNR                  -0.833248         -0.832464  ... -0.824598    -0.825923   \n",
       "RPDE                  0.462768          0.444480  ...  0.517140     0.444167   \n",
       "DFA                   0.176021          0.177843  ...  0.141311     0.181107   \n",
       "spread1               0.643843          0.645827  ...  0.676172     0.603871   \n",
       "spread2               0.446735          0.449660  ...  0.490221     0.405637   \n",
       "D2                    0.509403          0.511449  ...  0.536926     0.474926   \n",
       "PPE                   0.670179          0.674386  ...  0.705127     0.627545   \n",
       "\n",
       "                       NHR       HNR      RPDE       DFA   spread1   spread2  \\\n",
       "MDVP:Fo(Hz)      -0.043559  0.062074 -0.383894 -0.446013 -0.419816 -0.250043   \n",
       "MDVP:Fhi(Hz)      0.135939 -0.020141 -0.172184 -0.439302 -0.162592 -0.040241   \n",
       "MDVP:Flo(Hz)     -0.267097  0.220629 -0.405334 -0.039473 -0.398848 -0.243216   \n",
       "MDVP:Jitter(%)    0.780023 -0.736730  0.402644  0.190167  0.747034  0.416346   \n",
       "MDVP:Jitter(Abs)  0.672303 -0.652834  0.471696  0.279301  0.787716  0.438098   \n",
       "MDVP:RAP          0.783331 -0.744655  0.381231  0.164286  0.696099  0.333861   \n",
       "MDVP:PPQ          0.713219 -0.737736  0.389958  0.291476  0.775103  0.425438   \n",
       "Jitter:DDP        0.783238 -0.744647  0.381173  0.164302  0.696187  0.333824   \n",
       "MDVP:Shimmer      0.720332 -0.833248  0.462768  0.176021  0.643843  0.446735   \n",
       "MDVP:Shimmer(dB)  0.735250 -0.832464  0.444480  0.177843  0.645827  0.449660   \n",
       "Shimmer:APQ3      0.698218 -0.825916  0.444172  0.181098  0.603872  0.405661   \n",
       "Shimmer:APQ5      0.675324 -0.818596  0.421917  0.214534  0.632452  0.443028   \n",
       "MDVP:APQ          0.715214 -0.824598  0.517140  0.141311  0.676172  0.490221   \n",
       "Shimmer:DDA       0.698208 -0.825923  0.444167  0.181107  0.603871  0.405637   \n",
       "NHR               1.000000 -0.820336  0.505762 -0.147129  0.603629  0.416129   \n",
       "HNR              -0.820336  1.000000 -0.600738 -0.007967 -0.667772 -0.428248   \n",
       "RPDE              0.505762 -0.600738  1.000000 -0.110950  0.592437  0.479514   \n",
       "DFA              -0.147129 -0.007967 -0.110950  1.000000  0.194888  0.165988   \n",
       "spread1           0.603629 -0.667772  0.592437  0.194888  1.000000  0.649613   \n",
       "spread2           0.416129 -0.428248  0.479514  0.165988  0.649613  1.000000   \n",
       "D2                0.615695 -0.599404  0.236440 -0.168509  0.494632  0.523025   \n",
       "PPE               0.568286 -0.682645  0.551637  0.271857  0.963325  0.640170   \n",
       "\n",
       "                        D2       PPE  \n",
       "MDVP:Fo(Hz)       0.177773 -0.391626  \n",
       "MDVP:Fhi(Hz)      0.224396 -0.154147  \n",
       "MDVP:Flo(Hz)     -0.100816 -0.357351  \n",
       "MDVP:Jitter(%)    0.436663  0.762120  \n",
       "MDVP:Jitter(Abs)  0.306173  0.796409  \n",
       "MDVP:RAP          0.435252  0.704288  \n",
       "MDVP:PPQ          0.395068  0.811315  \n",
       "Jitter:DDP        0.435211  0.704379  \n",
       "MDVP:Shimmer      0.509403  0.670179  \n",
       "MDVP:Shimmer(dB)  0.511449  0.674386  \n",
       "Shimmer:APQ3      0.474931  0.627538  \n",
       "Shimmer:APQ5      0.500901  0.675246  \n",
       "MDVP:APQ          0.536926  0.705127  \n",
       "Shimmer:DDA       0.474926  0.627545  \n",
       "NHR               0.615695  0.568286  \n",
       "HNR              -0.599404 -0.682645  \n",
       "RPDE              0.236440  0.551637  \n",
       "DFA              -0.168509  0.271857  \n",
       "spread1           0.494632  0.963325  \n",
       "spread2           0.523025  0.640170  \n",
       "D2                1.000000  0.474877  \n",
       "PPE               0.474877  1.000000  \n",
       "\n",
       "[22 rows x 22 columns]"
      ]
     },
     "execution_count": 16,
     "metadata": {},
     "output_type": "execute_result"
    }
   ],
   "source": [
    "df_outlier_removed.corr()"
   ]
  },
  {
   "cell_type": "code",
   "execution_count": 17,
   "id": "c90a2472",
   "metadata": {},
   "outputs": [
    {
     "data": {
      "text/plain": [
       "<AxesSubplot:>"
      ]
     },
     "execution_count": 17,
     "metadata": {},
     "output_type": "execute_result"
    },
    {
     "data": {
      "image/png": "[encoded data removed]",
      "text/plain": [
       "<Figure size 1440x1080 with 2 Axes>"
      ]
     },
     "metadata": {
      "needs_background": "light"
     },
     "output_type": "display_data"
    }
   ],
   "source": [
    "fig = plt.figure(figsize = (20, 15))\n",
    "sns.heatmap(df_outlier_removed.corr(),xticklabels=df_outlier_removed.corr().columns, yticklabels=df_outlier_removed.corr().columns,annot=True)"
   ]
  },
  {
   "cell_type": "markdown",
   "id": "d6a830c4",
   "metadata": {},
   "source": [
    "# Normalizing the data"
   ]
  },
  {
   "cell_type": "code",
   "execution_count": 18,
   "id": "3571b5b5",
   "metadata": {},
   "outputs": [
    {
     "data": {
      "text/plain": [
       "StandardScaler()"
      ]
     },
     "execution_count": 18,
     "metadata": {},
     "output_type": "execute_result"
    }
   ],
   "source": [
    "from sklearn.preprocessing import StandardScaler\n",
    "scaler = StandardScaler()\n",
    "scaler.fit(df_outlier_removed)"
   ]
  },
  {
   "cell_type": "code",
   "execution_count": 20,
   "id": "0f37663f",
   "metadata": {},
   "outputs": [
    {
     "data": {
      "text/html": [
       "<div>\n",
       "<style scoped>\n",
       "    .dataframe tbody tr th:only-of-type {\n",
       "        vertical-align: middle;\n",
       "    }\n",
       "\n",
       "    .dataframe tbody tr th {\n",
       "        vertical-align: top;\n",
       "    }\n",
       "\n",
       "    .dataframe thead th {\n",
       "        text-align: right;\n",
       "    }\n",
       "</style>\n",
       "<table border=\"1\" class=\"dataframe\">\n",
       "  <thead>\n",
       "    <tr style=\"text-align: right;\">\n",
       "      <th></th>\n",
       "      <th>MDVP:Fo(Hz)</th>\n",
       "      <th>MDVP:Fhi(Hz)</th>\n",
       "      <th>MDVP:Flo(Hz)</th>\n",
       "      <th>MDVP:Jitter(%)</th>\n",
       "      <th>MDVP:Jitter(Abs)</th>\n",
       "      <th>MDVP:RAP</th>\n",
       "      <th>MDVP:PPQ</th>\n",
       "      <th>Jitter:DDP</th>\n",
       "      <th>MDVP:Shimmer</th>\n",
       "      <th>MDVP:Shimmer(dB)</th>\n",
       "      <th>...</th>\n",
       "      <th>MDVP:APQ</th>\n",
       "      <th>Shimmer:DDA</th>\n",
       "      <th>NHR</th>\n",
       "      <th>HNR</th>\n",
       "      <th>RPDE</th>\n",
       "      <th>DFA</th>\n",
       "      <th>spread1</th>\n",
       "      <th>spread2</th>\n",
       "      <th>D2</th>\n",
       "      <th>PPE</th>\n",
       "    </tr>\n",
       "  </thead>\n",
       "  <tbody>\n",
       "    <tr>\n",
       "      <th>0</th>\n",
       "      <td>-0.829300</td>\n",
       "      <td>-0.500094</td>\n",
       "      <td>-0.964110</td>\n",
       "      <td>0.701875</td>\n",
       "      <td>1.017692</td>\n",
       "      <td>0.440015</td>\n",
       "      <td>1.437914</td>\n",
       "      <td>0.438206</td>\n",
       "      <td>0.885615</td>\n",
       "      <td>0.976347</td>\n",
       "      <td>...</td>\n",
       "      <td>0.518684</td>\n",
       "      <td>0.710297</td>\n",
       "      <td>0.236191</td>\n",
       "      <td>-0.201203</td>\n",
       "      <td>-0.807838</td>\n",
       "      <td>1.760814</td>\n",
       "      <td>0.810831</td>\n",
       "      <td>0.482584</td>\n",
       "      <td>-0.209449</td>\n",
       "      <td>0.906632</td>\n",
       "    </tr>\n",
       "    <tr>\n",
       "      <th>1</th>\n",
       "      <td>-0.770972</td>\n",
       "      <td>-0.638805</td>\n",
       "      <td>-0.050885</td>\n",
       "      <td>1.308591</td>\n",
       "      <td>1.382624</td>\n",
       "      <td>0.999991</td>\n",
       "      <td>2.285930</td>\n",
       "      <td>0.998426</td>\n",
       "      <td>1.943849</td>\n",
       "      <td>2.235504</td>\n",
       "      <td>...</td>\n",
       "      <td>1.594294</td>\n",
       "      <td>1.755272</td>\n",
       "      <td>0.063834</td>\n",
       "      <td>-0.648894</td>\n",
       "      <td>-0.387524</td>\n",
       "      <td>1.837562</td>\n",
       "      <td>1.494886</td>\n",
       "      <td>1.316596</td>\n",
       "      <td>0.280817</td>\n",
       "      <td>1.870326</td>\n",
       "    </tr>\n",
       "    <tr>\n",
       "      <th>2</th>\n",
       "      <td>-0.909476</td>\n",
       "      <td>-0.919993</td>\n",
       "      <td>-0.104142</td>\n",
       "      <td>1.578975</td>\n",
       "      <td>1.747556</td>\n",
       "      <td>1.465655</td>\n",
       "      <td>2.368044</td>\n",
       "      <td>1.468224</td>\n",
       "      <td>1.402105</td>\n",
       "      <td>1.328911</td>\n",
       "      <td>...</td>\n",
       "      <td>0.995279</td>\n",
       "      <td>1.341012</td>\n",
       "      <td>-0.315105</td>\n",
       "      <td>-0.288994</td>\n",
       "      <td>-0.662075</td>\n",
       "      <td>1.942048</td>\n",
       "      <td>1.153723</td>\n",
       "      <td>1.021926</td>\n",
       "      <td>-0.101522</td>\n",
       "      <td>1.456953</td>\n",
       "    </tr>\n",
       "    <tr>\n",
       "      <th>3</th>\n",
       "      <td>-0.909622</td>\n",
       "      <td>-0.811616</td>\n",
       "      <td>-0.108588</td>\n",
       "      <td>1.404215</td>\n",
       "      <td>1.747556</td>\n",
       "      <td>1.218086</td>\n",
       "      <td>2.297874</td>\n",
       "      <td>1.216617</td>\n",
       "      <td>1.557834</td>\n",
       "      <td>1.549263</td>\n",
       "      <td>...</td>\n",
       "      <td>1.135408</td>\n",
       "      <td>1.524193</td>\n",
       "      <td>-0.288212</td>\n",
       "      <td>-0.290603</td>\n",
       "      <td>-0.613134</td>\n",
       "      <td>1.832380</td>\n",
       "      <td>1.455661</td>\n",
       "      <td>1.299181</td>\n",
       "      <td>0.065842</td>\n",
       "      <td>1.873778</td>\n",
       "    </tr>\n",
       "    <tr>\n",
       "      <th>4</th>\n",
       "      <td>-0.925657</td>\n",
       "      <td>-0.748930</td>\n",
       "      <td>-0.125313</td>\n",
       "      <td>2.350560</td>\n",
       "      <td>2.477420</td>\n",
       "      <td>2.119942</td>\n",
       "      <td>2.368044</td>\n",
       "      <td>2.122797</td>\n",
       "      <td>2.118818</td>\n",
       "      <td>1.971081</td>\n",
       "      <td>...</td>\n",
       "      <td>1.668978</td>\n",
       "      <td>2.145401</td>\n",
       "      <td>-0.035179</td>\n",
       "      <td>-0.519275</td>\n",
       "      <td>-0.783021</td>\n",
       "      <td>1.909364</td>\n",
       "      <td>1.798426</td>\n",
       "      <td>0.096775</td>\n",
       "      <td>-0.128172</td>\n",
       "      <td>2.348170</td>\n",
       "    </tr>\n",
       "  </tbody>\n",
       "</table>\n",
       "<p>5 rows × 22 columns</p>\n",
       "</div>"
      ],
      "text/plain": [
       "   MDVP:Fo(Hz)  MDVP:Fhi(Hz)  MDVP:Flo(Hz)  MDVP:Jitter(%)  MDVP:Jitter(Abs)  \\\n",
       "0    -0.829300     -0.500094     -0.964110        0.701875          1.017692   \n",
       "1    -0.770972     -0.638805     -0.050885        1.308591          1.382624   \n",
       "2    -0.909476     -0.919993     -0.104142        1.578975          1.747556   \n",
       "3    -0.909622     -0.811616     -0.108588        1.404215          1.747556   \n",
       "4    -0.925657     -0.748930     -0.125313        2.350560          2.477420   \n",
       "\n",
       "   MDVP:RAP  MDVP:PPQ  Jitter:DDP  MDVP:Shimmer  MDVP:Shimmer(dB)  ...  \\\n",
       "0  0.440015  1.437914    0.438206      0.885615          0.976347  ...   \n",
       "1  0.999991  2.285930    0.998426      1.943849          2.235504  ...   \n",
       "2  1.465655  2.368044    1.468224      1.402105          1.328911  ...   \n",
       "3  1.218086  2.297874    1.216617      1.557834          1.549263  ...   \n",
       "4  2.119942  2.368044    2.122797      2.118818          1.971081  ...   \n",
       "\n",
       "   MDVP:APQ  Shimmer:DDA       NHR       HNR      RPDE       DFA   spread1  \\\n",
       "0  0.518684     0.710297  0.236191 -0.201203 -0.807838  1.760814  0.810831   \n",
       "1  1.594294     1.755272  0.063834 -0.648894 -0.387524  1.837562  1.494886   \n",
       "2  0.995279     1.341012 -0.315105 -0.288994 -0.662075  1.942048  1.153723   \n",
       "3  1.135408     1.524193 -0.288212 -0.290603 -0.613134  1.832380  1.455661   \n",
       "4  1.668978     2.145401 -0.035179 -0.519275 -0.783021  1.909364  1.798426   \n",
       "\n",
       "    spread2        D2       PPE  \n",
       "0  0.482584 -0.209449  0.906632  \n",
       "1  1.316596  0.280817  1.870326  \n",
       "2  1.021926 -0.101522  1.456953  \n",
       "3  1.299181  0.065842  1.873778  \n",
       "4  0.096775 -0.128172  2.348170  \n",
       "\n",
       "[5 rows x 22 columns]"
      ]
     },
     "execution_count": 20,
     "metadata": {},
     "output_type": "execute_result"
    }
   ],
   "source": [
    "scaled_features = scaler.transform(df_outlier_removed)\n",
    "df_feat = pd.DataFrame(scaled_features,columns = df_outlier_removed.columns)\n",
    "df_feat.head()"
   ]
  },
  {
   "cell_type": "code",
   "execution_count": 21,
   "id": "b1aeb5cc",
   "metadata": {},
   "outputs": [],
   "source": [
    "x = df_outlier_removed\n",
    "y = labels"
   ]
  },
  {
   "cell_type": "code",
   "execution_count": 22,
   "id": "77e15dd5",
   "metadata": {},
   "outputs": [],
   "source": [
    "X_train,X_test,y_train,y_test=train_test_split(x, y, test_size=0.3, random_state=10)"
   ]
  },
  {
   "cell_type": "markdown",
   "id": "73241943",
   "metadata": {},
   "source": [
    "# Applying various ML algorithms"
   ]
  },
  {
   "cell_type": "markdown",
   "id": "71bdc46a",
   "metadata": {},
   "source": [
    "# XGBOOST"
   ]
  },
  {
   "cell_type": "code",
   "execution_count": 24,
   "id": "eea2e8ff",
   "metadata": {},
   "outputs": [
    {
     "name": "stderr",
     "output_type": "stream",
     "text": [
      "C:\\Users\\15264\\Anaconda3\\lib\\site-packages\\xgboost\\sklearn.py:1224: UserWarning: The use of label encoder in XGBClassifier is deprecated and will be removed in a future release. To remove this warning, do the following: 1) Pass option use_label_encoder=False when constructing XGBClassifier object; and 2) Encode your labels (y) as integers starting with 0, i.e. 0, 1, 2, ..., [num_class - 1].\n",
      "  warnings.warn(label_encoder_deprecation_msg, UserWarning)\n"
     ]
    },
    {
     "name": "stdout",
     "output_type": "stream",
     "text": [
      "[13:40:25] WARNING: ..\\src\\learner.cc:1115: Starting in XGBoost 1.3.0, the default evaluation metric used with the objective 'binary:logistic' was changed from 'error' to 'logloss'. Explicitly set eval_metric if you'd like to restore the old behavior.\n"
     ]
    },
    {
     "data": {
      "text/plain": [
       "XGBClassifier(base_score=0.5, booster='gbtree', colsample_bylevel=1,\n",
       "              colsample_bynode=1, colsample_bytree=1, enable_categorical=False,\n",
       "              gamma=0, gpu_id=-1, importance_type=None,\n",
       "              interaction_constraints='', learning_rate=0.300000012,\n",
       "              max_delta_step=0, max_depth=6, min_child_weight=1, missing=nan,\n",
       "              monotone_constraints='()', n_estimators=100, n_jobs=4,\n",
       "              num_parallel_tree=1, predictor='auto', random_state=0,\n",
       "              reg_alpha=0, reg_lambda=1, scale_pos_weight=1, subsample=1,\n",
       "              tree_method='exact', validate_parameters=1, verbosity=None)"
      ]
     },
     "execution_count": 24,
     "metadata": {},
     "output_type": "execute_result"
    }
   ],
   "source": [
    "model=XGBClassifier()\n",
    "model.fit(X_train,y_train)"
   ]
  },
  {
   "cell_type": "code",
   "execution_count": 33,
   "id": "ca71efc8",
   "metadata": {},
   "outputs": [
    {
     "name": "stdout",
     "output_type": "stream",
     "text": [
      "[[14  2]\n",
      " [ 1 42]]\n",
      "94.91525423728814\n"
     ]
    }
   ],
   "source": [
    "y_pred=model.predict(X_test)\n",
    "print(confusion_matrix(y_test,y_pred))\n",
    "print(accuracy_score(y_test, y_pred)*100)"
   ]
  },
  {
   "cell_type": "code",
   "execution_count": null,
   "id": "f1afb507",
   "metadata": {},
   "outputs": [],
   "source": []
  },
  {
   "cell_type": "markdown",
   "id": "a2da3b04",
   "metadata": {},
   "source": [
    "# KNN"
   ]
  },
  {
   "cell_type": "code",
   "execution_count": 34,
   "id": "50c68315",
   "metadata": {},
   "outputs": [
    {
     "data": {
      "text/plain": [
       "KNeighborsClassifier()"
      ]
     },
     "execution_count": 34,
     "metadata": {},
     "output_type": "execute_result"
    }
   ],
   "source": [
    "from sklearn.neighbors import KNeighborsClassifier\n",
    "knn = KNeighborsClassifier(n_neighbors = 5)\n",
    "knn.fit(X_train,y_train)"
   ]
  },
  {
   "cell_type": "code",
   "execution_count": 35,
   "id": "4445a8ed",
   "metadata": {},
   "outputs": [
    {
     "data": {
      "text/plain": [
       "array([1, 1, 1, 1, 0, 1, 1, 1, 1, 1, 0, 1, 1, 1, 1, 0, 1, 1, 1, 1, 1, 1,\n",
       "       1, 1, 1, 1, 1, 1, 0, 0, 1, 1, 1, 0, 0, 1, 1, 1, 0, 1, 1, 0, 1, 1,\n",
       "       1, 1, 1, 1, 1, 1, 1, 0, 1, 1, 1, 1, 1, 1, 0], dtype=int64)"
      ]
     },
     "execution_count": 35,
     "metadata": {},
     "output_type": "execute_result"
    }
   ],
   "source": [
    "pred = knn.predict(X_test)\n",
    "pred"
   ]
  },
  {
   "cell_type": "code",
   "execution_count": 36,
   "id": "fe7973b2",
   "metadata": {},
   "outputs": [
    {
     "name": "stdout",
     "output_type": "stream",
     "text": [
      "[[ 9  7]\n",
      " [ 2 41]]\n"
     ]
    }
   ],
   "source": [
    "from sklearn.metrics import confusion_matrix, accuracy_score\n",
    "print(confusion_matrix(y_test,pred))"
   ]
  },
  {
   "cell_type": "code",
   "execution_count": 37,
   "id": "3588ad05",
   "metadata": {},
   "outputs": [
    {
     "name": "stdout",
     "output_type": "stream",
     "text": [
      "0.847457627118644\n"
     ]
    }
   ],
   "source": [
    "print(accuracy_score(y_test, pred))"
   ]
  },
  {
   "cell_type": "markdown",
   "id": "09b2df91",
   "metadata": {},
   "source": [
    "# Random Forest classifier"
   ]
  },
  {
   "cell_type": "code",
   "execution_count": 38,
   "id": "951ead4a",
   "metadata": {},
   "outputs": [
    {
     "name": "stdout",
     "output_type": "stream",
     "text": [
      "[[ 9  7]\n",
      " [ 2 41]]\n"
     ]
    },
    {
     "data": {
      "text/plain": [
       "0.9491525423728814"
      ]
     },
     "execution_count": 38,
     "metadata": {},
     "output_type": "execute_result"
    }
   ],
   "source": [
    "from sklearn.ensemble import RandomForestClassifier\n",
    "forest= RandomForestClassifier(n_estimators =15, random_state = 2)\n",
    "forest.fit(X_train,y_train)  \n",
    "y_pred = forest.predict(X_test)\n",
    "print(confusion_matrix(y_test,pred))\n",
    "forest.score(X_test,y_test)"
   ]
  },
  {
   "cell_type": "markdown",
   "id": "1931310f",
   "metadata": {},
   "source": [
    "# Logistic Regression"
   ]
  },
  {
   "cell_type": "code",
   "execution_count": 39,
   "id": "6b886de8",
   "metadata": {},
   "outputs": [
    {
     "name": "stderr",
     "output_type": "stream",
     "text": [
      "C:\\Users\\15264\\Anaconda3\\lib\\site-packages\\sklearn\\linear_model\\_logistic.py:763: ConvergenceWarning: lbfgs failed to converge (status=1):\n",
      "STOP: TOTAL NO. of ITERATIONS REACHED LIMIT.\n",
      "\n",
      "Increase the number of iterations (max_iter) or scale the data as shown in:\n",
      "    https://scikit-learn.org/stable/modules/preprocessing.html\n",
      "Please also refer to the documentation for alternative solver options:\n",
      "    https://scikit-learn.org/stable/modules/linear_model.html#logistic-regression\n",
      "  n_iter_i = _check_optimize_result(\n"
     ]
    },
    {
     "data": {
      "text/plain": [
       "LogisticRegression()"
      ]
     },
     "execution_count": 39,
     "metadata": {},
     "output_type": "execute_result"
    }
   ],
   "source": [
    "from sklearn.linear_model import LogisticRegression\n",
    "logmodel = LogisticRegression()\n",
    "logmodel.fit(X_train,y_train)"
   ]
  },
  {
   "cell_type": "code",
   "execution_count": 40,
   "id": "fe910c6d",
   "metadata": {},
   "outputs": [],
   "source": [
    "pred = logmodel.predict(X_test)"
   ]
  },
  {
   "cell_type": "code",
   "execution_count": 41,
   "id": "a1f7a66e",
   "metadata": {},
   "outputs": [
    {
     "name": "stdout",
     "output_type": "stream",
     "text": [
      "[[11  5]\n",
      " [ 1 42]]\n"
     ]
    }
   ],
   "source": [
    "print(confusion_matrix(y_test,pred))"
   ]
  },
  {
   "cell_type": "code",
   "execution_count": 42,
   "id": "062d011a",
   "metadata": {},
   "outputs": [
    {
     "data": {
      "text/plain": [
       "0.8983050847457628"
      ]
     },
     "execution_count": 42,
     "metadata": {},
     "output_type": "execute_result"
    }
   ],
   "source": [
    "logmodel.score(X_test,y_test)"
   ]
  },
  {
   "cell_type": "markdown",
   "id": "e52e97b6",
   "metadata": {},
   "source": [
    "# Support Vector Machine"
   ]
  },
  {
   "cell_type": "code",
   "execution_count": 383,
   "id": "6f8101f6",
   "metadata": {},
   "outputs": [],
   "source": [
    "from sklearn.svm import SVC\n",
    "svc = SVC()\n",
    "svc.fit(X_train, y_train)\n",
    "y_pred = svc.predict(X_test)"
   ]
  },
  {
   "cell_type": "code",
   "execution_count": 384,
   "id": "0f94649c",
   "metadata": {},
   "outputs": [
    {
     "data": {
      "text/plain": [
       "array([[ 5, 11],\n",
       "       [ 0, 43]], dtype=int64)"
      ]
     },
     "execution_count": 384,
     "metadata": {},
     "output_type": "execute_result"
    }
   ],
   "source": [
    "confusion_matrix(y_test, y_pred)"
   ]
  },
  {
   "cell_type": "code",
   "execution_count": 385,
   "id": "fed38d2e",
   "metadata": {},
   "outputs": [
    {
     "name": "stdout",
     "output_type": "stream",
     "text": [
      "0.8135593220338984\n"
     ]
    }
   ],
   "source": [
    "print(accuracy_score(y_test, y_pred))"
   ]
  },
  {
   "cell_type": "markdown",
   "id": "849ed500",
   "metadata": {},
   "source": [
    "\n",
    "# Decision Tree"
   ]
  },
  {
   "cell_type": "code",
   "execution_count": 386,
   "id": "8447b33e",
   "metadata": {},
   "outputs": [],
   "source": [
    "from sklearn.tree import DecisionTreeClassifier\n",
    "dtc = DecisionTreeClassifier()\n",
    "dtc.fit(X_train, y_train)\n",
    "y_pred = dtc.predict(X_test)"
   ]
  },
  {
   "cell_type": "code",
   "execution_count": 387,
   "id": "655132f0",
   "metadata": {},
   "outputs": [
    {
     "data": {
      "text/plain": [
       "array([[11,  5],\n",
       "       [ 3, 40]], dtype=int64)"
      ]
     },
     "execution_count": 387,
     "metadata": {},
     "output_type": "execute_result"
    }
   ],
   "source": [
    "confusion_matrix(y_test, y_pred)"
   ]
  },
  {
   "cell_type": "code",
   "execution_count": 388,
   "id": "b9c811f1",
   "metadata": {},
   "outputs": [
    {
     "name": "stdout",
     "output_type": "stream",
     "text": [
      "0.864406779661017\n"
     ]
    }
   ],
   "source": [
    "print(accuracy_score(y_test, y_pred))"
   ]
  },
  {
   "cell_type": "markdown",
   "id": "51d928d1",
   "metadata": {},
   "source": [
    "# Naive Bayes"
   ]
  },
  {
   "cell_type": "code",
   "execution_count": 389,
   "id": "37733b91",
   "metadata": {},
   "outputs": [
    {
     "data": {
      "text/plain": [
       "GaussianNB()"
      ]
     },
     "execution_count": 389,
     "metadata": {},
     "output_type": "execute_result"
    }
   ],
   "source": [
    "from sklearn.naive_bayes import GaussianNB\n",
    "classifier = GaussianNB()\n",
    "classifier.fit(X_train, y_train)"
   ]
  },
  {
   "cell_type": "code",
   "execution_count": 390,
   "id": "2b35953c",
   "metadata": {},
   "outputs": [],
   "source": [
    "y_pred  =  classifier.predict(X_test)"
   ]
  },
  {
   "cell_type": "code",
   "execution_count": 391,
   "id": "7698ef74",
   "metadata": {},
   "outputs": [
    {
     "data": {
      "text/plain": [
       "array([[15,  1],\n",
       "       [12, 31]], dtype=int64)"
      ]
     },
     "execution_count": 391,
     "metadata": {},
     "output_type": "execute_result"
    }
   ],
   "source": [
    "confusion_matrix(y_test, y_pred)"
   ]
  },
  {
   "cell_type": "code",
   "execution_count": 392,
   "id": "dfdb7e28",
   "metadata": {},
   "outputs": [
    {
     "name": "stdout",
     "output_type": "stream",
     "text": [
      "0.7796610169491526\n"
     ]
    }
   ],
   "source": [
    "print(accuracy_score(y_test, y_pred))"
   ]
  },
  {
   "cell_type": "code",
   "execution_count": null,
   "id": "707e90c7",
   "metadata": {},
   "outputs": [],
   "source": []
  }
 ],
 "metadata": {
  "kernelspec": {
   "display_name": "Python 3",
   "language": "python",
   "name": "python3"
  },
  "language_info": {
   "codemirror_mode": {
    "name": "ipython",
    "version": 3
   },
   "file_extension": ".py",
   "mimetype": "text/x-python",
   "name": "python",
   "nbconvert_exporter": "python",
   "pygments_lexer": "ipython3",
   "version": "3.8.8"
  }
 },
 "nbformat": 4,
 "nbformat_minor": 5
}
